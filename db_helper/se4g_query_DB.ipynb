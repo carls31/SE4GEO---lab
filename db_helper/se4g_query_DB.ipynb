{
 "cells": [
  {
   "cell_type": "code",
   "execution_count": null,
   "metadata": {},
   "outputs": [],
   "source": [
    "def update(new_data,conn,df_columns = ['station_code', \n",
    "\t\t\t\t\t\t\t      'station_name', \n",
    "\t\t\t\t\t\t\t\t  'station_altitude', \n",
    "\t\t\t\t\t\t\t\t  'network_countrycode', \n",
    "\t\t\t\t\t\t\t\t  'pollutant', \n",
    "\t\t\t\t\t\t\t\t  'value_datetime_begin',\n",
    "\t\t\t\t\t\t\t\t  'value_datetime_end',\n",
    "\t\t\t\t\t\t\t\t  'value_datetime_updated',\n",
    "\t\t\t\t\t\t\t\t  'value_numeric']):\n",
    "\n",
    "    cur = conn.cursor()\n",
    "    cur.execute(f\"INSERT INTO se4g ({df_columns}) VALUES (%s, %s, %.1f, %s, %s, %s, %s, %s, %f)\", new_data)\n"
   ]
  },
  {
   "cell_type": "code",
   "execution_count": null,
   "metadata": {},
   "outputs": [],
   "source": [
    "conn = psycopg2.connect(\n",
    "    host = ip,\n",
    "    database = \"se4g\",\n",
    "    user = \"postgres\",\n",
    "    password = \"carIs3198\")\n",
    "\n",
    "\n",
    "\n",
    "update(new_data,conn)\n",
    "\n",
    "#Save changes using the commit() function\n",
    "conn.commit()\n",
    "#Close the database connection\n",
    "conn.close()\n"
   ]
  },
  {
   "cell_type": "code",
   "execution_count": null,
   "metadata": {},
   "outputs": [],
   "source": [
    "cur.execute('''UPDATE pollutant_detection\n",
    " (station_code TEXT , \n",
    " name_pollutant TEXT, \n",
    " data_time_begin DATE, \n",
    " data_time_end DATE,\n",
    " data_time_update DATE,\n",
    " value_pollutant DECIMAL,\n",
    " PRIMARY KEY (name_pollutant, station_code, data_time_begin,data_time_end ))''')"
   ]
  },
  {
   "cell_type": "code",
   "execution_count": null,
   "metadata": {},
   "outputs": [],
   "source": [
    "df_columns = ['station_code', \n",
    "                'station_name', \n",
    "                'station_altitude', \n",
    "                'network_countrycode', \n",
    "                'pollutant', \n",
    "                'value_datetime_begin',\n",
    "                'value_datetime_end',\n",
    "                'value_datetime_updated',\n",
    "                'value_numeric']"
   ]
  }
 ],
 "metadata": {
  "language_info": {
   "name": "python"
  },
  "orig_nbformat": 4
 },
 "nbformat": 4,
 "nbformat_minor": 2
}
