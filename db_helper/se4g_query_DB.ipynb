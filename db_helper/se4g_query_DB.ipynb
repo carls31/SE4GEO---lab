{
 "cells": [
  {
   "attachments": {},
   "cell_type": "markdown",
   "metadata": {},
   "source": [
    "Set up"
   ]
  },
  {
   "cell_type": "code",
   "execution_count": 17,
   "metadata": {},
   "outputs": [],
   "source": [
    "import psycopg2\n",
    "import os\n",
    "import pandas as pd"
   ]
  },
  {
   "cell_type": "code",
   "execution_count": 3,
   "metadata": {},
   "outputs": [
    {
     "name": "stdout",
     "output_type": "stream",
     "text": [
      "current_dir:  c:\\Users\\Utente\\Documents\\GitHub\\SE4GEO-Lab\\db_helper\n",
      "Current working directory: c:\\Users\\Utente\\Documents\\GitHub\\SE4GEO-Lab\n"
     ]
    }
   ],
   "source": [
    "# Set the working directory\n",
    "current_dir = os.getcwd()\n",
    "print('current_dir: ',current_dir)\n",
    "parent_dir = os.path.dirname(current_dir)\n",
    "\n",
    "os.chdir(parent_dir)\n",
    "\n",
    "print('Current working directory:', os.getcwd())"
   ]
  },
  {
   "cell_type": "code",
   "execution_count": null,
   "metadata": {},
   "outputs": [],
   "source": [
    "from se4g_helper import download_request, build_dataframe, update_dataset, update_dashboard_dataset\n",
    "# Download and get the dataframe file name\n",
    "dir = download_request(folder_out = 'data_prova')\n",
    "\n",
    "# Build the dataframe with the required structure\n",
    "df = build_dataframe(dir, folder_out = 'data_prova')\n",
    "\n",
    "# Update the final dataset\n",
    "new_df = update_dataset(df, folder_out = 'data_prova')\n",
    "# Update the dashboard dataset \n",
    "update_dashboard_dataset(df,folder_out = 'data_prova')"
   ]
  },
  {
   "cell_type": "code",
   "execution_count": 15,
   "metadata": {},
   "outputs": [],
   "source": [
    "def insert_data(table_name, conn, df):\n",
    "    cur = conn.cursor()\n",
    "    \n",
    "    # Specify the table name and column names\n",
    "    df_columns = ['station_code', \n",
    "                'station_name', \n",
    "                'station_altitude', \n",
    "                'network_countrycode', \n",
    "                'pollutant', \n",
    "                'value_datetime_begin',\n",
    "                'value_datetime_end',\n",
    "                'value_datetime_updated',\n",
    "                'value_numeric']\n",
    "\n",
    "    # Iterate over the DataFrame rows and insert data row by row\n",
    "    for _, row in df.iterrows():\n",
    "        # Generate the SQL INSERT statement\n",
    "        insert_statement = f\"INSERT INTO {table_name} ({', '.join(df_columns)}) VALUES (%s, %s, %s, %s, %s, %s, %s, %s, %s)\"\n",
    "        values = tuple(row[col] for col in df_columns)\n",
    "\n",
    "        # Execute the INSERT statement\n",
    "        cur.execute(insert_statement, values)\n",
    "\n",
    "    \n",
    "    # Commit the changes\n",
    "    conn.commit()\n",
    "    \n",
    "    # Close the cursor and the connection\n",
    "    cur.close()\n",
    "    conn.close()\n",
    "\n",
    "ip = '192.168.30.19'\n",
    "\n",
    "# Connect to the database\n",
    "conn = psycopg2.connect(\n",
    "    host = 'localhost',\n",
    "    database = \"se4g\",\n",
    "    user = \"postgres\",\n",
    "    password = \"carIs3198\"\n",
    ")\n",
    "\n",
    "# Call the insert_data function with the table name and connection\n",
    "insert_data('se4g_pollution', conn, new_df)\n"
   ]
  },
  {
   "cell_type": "code",
   "execution_count": 19,
   "metadata": {},
   "outputs": [
    {
     "name": "stderr",
     "output_type": "stream",
     "text": [
      "C:\\Users\\Utente\\AppData\\Local\\Temp\\ipykernel_10752\\839016635.py:10: UserWarning: pandas only supports SQLAlchemy connectable (engine/connection) or database string URI or sqlite3 DBAPI2 connection. Other DBAPI2 objects are not tested. Please consider using SQLAlchemy.\n",
      "  df = pd.read_sql_query(query, conn)\n"
     ]
    },
    {
     "name": "stdout",
     "output_type": "stream",
     "text": [
      "       station_code        station_name  station_altitude network_countrycode  \\\n",
      "0           AD0942A  Escaldes-Engordany            1080.0                  AD   \n",
      "1           AD0942A  Escaldes-Engordany            1080.0                  AD   \n",
      "2           AD0942A  Escaldes-Engordany            1080.0                  AD   \n",
      "3           AD0942A  Escaldes-Engordany            1080.0                  AD   \n",
      "4           AD0942A  Escaldes-Engordany            1080.0                  AD   \n",
      "...             ...                 ...               ...                 ...   \n",
      "826323      SE0117A   Visby Österväg 17              44.0                  SE   \n",
      "826324      SE0117A   Visby Österväg 17              44.0                  SE   \n",
      "826325      SE0117A   Visby Österväg 17              44.0                  SE   \n",
      "826326      SE0117A   Visby Österväg 17              44.0                  SE   \n",
      "826327      SE0117A   Visby Österväg 17              44.0                  SE   \n",
      "\n",
      "       pollutant       value_datetime_begin         value_datetime_end  \\\n",
      "0            SO2  2023-05-22 06:00:00+01:00  2023-05-22 07:00:00+01:00   \n",
      "1            SO2  2023-05-22 07:00:00+01:00  2023-05-22 08:00:00+01:00   \n",
      "2            SO2  2023-05-22 08:00:00+01:00  2023-05-22 09:00:00+01:00   \n",
      "3            SO2  2023-05-22 09:00:00+01:00  2023-05-22 10:00:00+01:00   \n",
      "4            SO2  2023-05-22 10:00:00+01:00  2023-05-22 11:00:00+01:00   \n",
      "...          ...                        ...                        ...   \n",
      "826323      PM10     2023-05-29 15:00:00+00  2023-05-29 17:00:00+01:00   \n",
      "826324      PM10     2023-05-29 16:00:00+00  2023-05-29 18:00:00+01:00   \n",
      "826325      PM10     2023-05-29 17:00:00+00  2023-05-29 19:00:00+01:00   \n",
      "826326      PM10     2023-05-29 18:00:00+00  2023-05-29 20:00:00+01:00   \n",
      "826327      PM10     2023-05-29 19:00:00+00  2023-05-29 21:00:00+01:00   \n",
      "\n",
      "       value_datetime_updated  value_numeric  \n",
      "0                      +01:00        0.90000  \n",
      "1                      +01:00        1.30000  \n",
      "2                      +01:00        2.10000  \n",
      "3                      +01:00        1.00000  \n",
      "4                      +01:00        0.60000  \n",
      "...                       ...            ...  \n",
      "826323                 +01:00       13.22320  \n",
      "826324                 +01:00        7.77702  \n",
      "826325                 +01:00        6.21289  \n",
      "826326                 +01:00        5.55419  \n",
      "826327                 +01:00        5.87283  \n",
      "\n",
      "[826328 rows x 9 columns]\n"
     ]
    }
   ],
   "source": [
    "# Connect to the database\n",
    "conn = psycopg2.connect(\n",
    "    host = 'localhost',\n",
    "    database = \"se4g\",\n",
    "    user = \"postgres\",\n",
    "    password = \"carIs3198\"\n",
    ")\n",
    "\n",
    "query = \"SELECT * FROM se4g_pollution\"\n",
    "df = pd.read_sql_query(query, conn)\n",
    "\n",
    "conn.close()\n",
    "\n",
    "print(df)"
   ]
  },
  {
   "cell_type": "code",
   "execution_count": null,
   "metadata": {},
   "outputs": [],
   "source": [
    "cur.execute('''UPDATE pollutant_detection\n",
    " (station_code TEXT , \n",
    " name_pollutant TEXT, \n",
    " data_time_begin DATE, \n",
    " data_time_end DATE,\n",
    " data_time_update DATE,\n",
    " value_pollutant DECIMAL,\n",
    " PRIMARY KEY (name_pollutant, station_code, data_time_begin,data_time_end ))''')"
   ]
  }
 ],
 "metadata": {
  "kernelspec": {
   "display_name": "se4g",
   "language": "python",
   "name": "python3"
  },
  "language_info": {
   "codemirror_mode": {
    "name": "ipython",
    "version": 3
   },
   "file_extension": ".py",
   "mimetype": "text/x-python",
   "name": "python",
   "nbconvert_exporter": "python",
   "pygments_lexer": "ipython3",
   "version": "3.11.0"
  },
  "orig_nbformat": 4
 },
 "nbformat": 4,
 "nbformat_minor": 2
}
