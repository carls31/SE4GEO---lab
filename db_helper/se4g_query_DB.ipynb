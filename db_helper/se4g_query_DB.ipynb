{
 "cells": [
  {
   "attachments": {},
   "cell_type": "markdown",
   "metadata": {},
   "source": [
    "Set up"
   ]
  },
  {
   "cell_type": "code",
   "execution_count": null,
   "metadata": {},
   "outputs": [],
   "source": [
    "import psycopg2\n",
    "import os\n",
    "from se4g_helper import download_request, build_dataframe, update_dataset, update_dashboard_dataset"
   ]
  },
  {
   "cell_type": "code",
   "execution_count": null,
   "metadata": {},
   "outputs": [],
   "source": [
    "# Set the working directory\n",
    "current_dir = os.getcwd()\n",
    "print('current_dir: ',current_dir)\n",
    "parent_dir = os.path.dirname(current_dir)\n",
    "\n",
    "os.chdir(parent_dir)\n",
    "\n",
    "print('Current working directory:', os.getcwd())"
   ]
  },
  {
   "cell_type": "code",
   "execution_count": null,
   "metadata": {},
   "outputs": [],
   "source": [
    "# Download and get the dataframe file name\n",
    "dir = download_request(folder_out = 'data_prova')\n",
    "\n",
    "# Build the dataframe with the required structure\n",
    "new_df = build_dataframe(dir, folder_out = 'data_prova')\n",
    "\n",
    "# Update the final dataset\n",
    "update_dataset(new_df, folder_out = 'data_prova')\n",
    "# Update the dashboard dataset \n",
    "update_dashboard_dataset(new_df,folder_out = 'data_prova')"
   ]
  },
  {
   "cell_type": "code",
   "execution_count": null,
   "metadata": {},
   "outputs": [],
   "source": [
    "def update(new_data,conn,df_columns = ['station_code', \n",
    "\t\t\t\t\t\t\t      'station_name', \n",
    "\t\t\t\t\t\t\t\t  'station_altitude', \n",
    "\t\t\t\t\t\t\t\t  'network_countrycode', \n",
    "\t\t\t\t\t\t\t\t  'pollutant', \n",
    "\t\t\t\t\t\t\t\t  'value_datetime_begin',\n",
    "\t\t\t\t\t\t\t\t  'value_datetime_end',\n",
    "\t\t\t\t\t\t\t\t  'value_datetime_updated',\n",
    "\t\t\t\t\t\t\t\t  'value_numeric']):\n",
    "\n",
    "    cur = conn.cursor()\n",
    "    cur.execute(f\"INSERT INTO se4g ({df_columns}) VALUES (%s, %s, %.1f, %s, %s, %s, %s, %s, %f)\", new_data)\n"
   ]
  },
  {
   "cell_type": "code",
   "execution_count": null,
   "metadata": {},
   "outputs": [],
   "source": [
    "ip = '192.168.30.19'\n",
    "\n",
    "conn = psycopg2.connect(\n",
    "    host = 'localhost',\n",
    "    database = \"se4g\",\n",
    "    user = \"postgres\",\n",
    "    password = \"carIs3198\")\n",
    "\n",
    "update(new_df,conn)\n",
    "\n",
    "#Save changes using the commit() function\n",
    "conn.commit()\n",
    "#Close the database connection\n",
    "conn.close()\n"
   ]
  },
  {
   "cell_type": "code",
   "execution_count": null,
   "metadata": {},
   "outputs": [],
   "source": [
    "cur.execute('''UPDATE pollutant_detection\n",
    " (station_code TEXT , \n",
    " name_pollutant TEXT, \n",
    " data_time_begin DATE, \n",
    " data_time_end DATE,\n",
    " data_time_update DATE,\n",
    " value_pollutant DECIMAL,\n",
    " PRIMARY KEY (name_pollutant, station_code, data_time_begin,data_time_end ))''')"
   ]
  }
 ],
 "metadata": {
  "language_info": {
   "name": "python"
  },
  "orig_nbformat": 4
 },
 "nbformat": 4,
 "nbformat_minor": 2
}
