{
 "cells": [
  {
   "cell_type": "code",
   "execution_count": null,
   "metadata": {},
   "outputs": [],
   "source": [
    "def update(new_data):\n",
    "    cur.execute(f\"INSERT INTO se4g ({df_columns}) VALUES (%s, %s, %.1f, %s, %s, %s, %s, %s, %f)\", new_data)"
   ]
  },
  {
   "cell_type": "code",
   "execution_count": null,
   "metadata": {},
   "outputs": [],
   "source": [
    "cur.execute('''UPDATE pollutant_detection\n",
    " (station_code TEXT , \n",
    " name_pollutant TEXT, \n",
    " data_time_begin DATE, \n",
    " data_time_end DATE,\n",
    " data_time_update DATE,\n",
    " value_pollutant DECIMAL,\n",
    " PRIMARY KEY (name_pollutant, station_code, data_time_begin,data_time_end ))''')"
   ]
  },
  {
   "cell_type": "code",
   "execution_count": null,
   "metadata": {},
   "outputs": [],
   "source": [
    "df_columns = ['station_code', \n",
    "                'station_name', \n",
    "                'station_altitude', \n",
    "                'network_countrycode', \n",
    "                'pollutant', \n",
    "                'value_datetime_begin',\n",
    "                'value_datetime_end',\n",
    "                'value_datetime_updated',\n",
    "                'value_numeric']"
   ]
  }
 ],
 "metadata": {
  "language_info": {
   "name": "python"
  },
  "orig_nbformat": 4
 },
 "nbformat": 4,
 "nbformat_minor": 2
}
