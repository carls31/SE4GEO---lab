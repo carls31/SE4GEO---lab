{
 "cells": [
  {
   "cell_type": "code",
   "execution_count": null,
   "metadata": {},
   "outputs": [],
   "source": [
    "import os\n",
    "import pandas as pd\n",
    "from datetime import datetime "
   ]
  },
  {
   "cell_type": "code",
   "execution_count": null,
   "metadata": {},
   "outputs": [],
   "source": [
    "# Set the working directory\n",
    "current_dir = os.getcwd()\n",
    "print('current_dir: ',current_dir)\n",
    "parent_dir = os.path.dirname(current_dir)\n",
    "\n",
    "os.chdir(parent_dir)\n",
    "\n",
    "print('Current working directory:', os.getcwd())"
   ]
  },
  {
   "cell_type": "code",
   "execution_count": null,
   "metadata": {},
   "outputs": [],
   "source": [
    "fileName = \"se4g_dashboard_dataset.csv\"\n",
    "folder_out = 'data_prova'\n",
    "full_path = os.path.join(folder_out, fileName)\n",
    "\n",
    "country = {'AD': 'Andorra', \n",
    "        'SE':'Sweden', \n",
    "        'DE':'Germany', \n",
    "        'CY':'Undefined', \n",
    "        'BE':'Belgium', \n",
    "        'FI':'Finland', \n",
    "        'ES':'Spain', \n",
    "        'CZ':'Czech Republic', \n",
    "        'BG':'Bulgaria', \n",
    "        'BA':'Bosnia and Herzegovina', \n",
    "        'EE':'Estonia', \n",
    "        'CH':'Switzerland',\n",
    "        'AT':'Austria', \n",
    "        'DK':'Denmark'}\n",
    "\n",
    "if os.path.isfile(full_path):\n",
    "    dashboard_df = pd.read_csv(full_path)\n",
    "    # Convert 'value_datetime_end' to datetime objects and extract the day\n",
    "    datetime_objects = dashboard_df['value_datetime_end'].apply(lambda x: datetime.strptime(x, '%Y-%m-%d %H:%M:%S%z'))\n",
    "\n",
    "    dashboard_df['month_day'] = datetime_objects.apply(lambda x: x.strftime('%m%d')).astype('int64')\n",
    "    \n",
    "    # Compute daily mean of 'value_numeric' for each 'pollutant' and 'network_countrycode'\n",
    "    daily_mean = dashboard_df.groupby(['pollutant', 'network_countrycode', 'day'])['value_numeric'].mean().reset_index()\n",
    "    \n",
    "    # Merge the daily mean back to the original dataframe\n",
    "    dashboard_df = dashboard_df.merge(daily_mean, on=['pollutant', 'network_countrycode', 'day'], suffixes=('', '_mean'))    \n",
    "\n",
    "    dashboard_df['country'] = dashboard_df['network_countrycode'].map(country)\n",
    "    dashboard_df = dashboard_df[['pollutant', 'country', 'month_day', 'value_numeric_mean','value_datetime_begin']].copy()\n",
    "\n",
    "    dashboard_df = dashboard_df.drop_duplicates().reset_index(drop=True)\n",
    "    dashboard_df = dashboard_df.sort_values('month_day')\n",
    "    dashboard_df.to_csv('data_prova/se4g_dashboard_dataset_prova.csv', index=False)\n",
    "    \n",
    "else: \n",
    "        print(\"Dataset \",full_path,\" does not exist\")\n",
    "        print(os.getcwd())"
   ]
  }
 ],
 "metadata": {
  "language_info": {
   "name": "python"
  },
  "orig_nbformat": 4
 },
 "nbformat": 4,
 "nbformat_minor": 2
}
