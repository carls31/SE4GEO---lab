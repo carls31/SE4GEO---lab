{
 "cells": [
  {
   "attachments": {},
   "cell_type": "markdown",
   "metadata": {},
   "source": [
    "Set up"
   ]
  },
  {
   "cell_type": "code",
   "execution_count": 2,
   "metadata": {},
   "outputs": [],
   "source": [
    "import psycopg2\n",
    "from sqlalchemy import create_engine\n",
    "import os\n",
    "import pandas as pd"
   ]
  },
  {
   "cell_type": "code",
   "execution_count": 8,
   "metadata": {},
   "outputs": [
    {
     "name": "stdout",
     "output_type": "stream",
     "text": [
      "current_dir:  c:\\Users\\Utente\\Documents\\GitHub\\SE4GEO-Lab\\db_helper\n",
      "Current working directory: c:\\Users\\Utente\\Documents\\GitHub\\SE4GEO-Lab\n"
     ]
    }
   ],
   "source": [
    "# Set the working directory\n",
    "current_dir = os.getcwd()\n",
    "print('current_dir: ',current_dir)\n",
    "parent_dir = os.path.dirname(current_dir)\n",
    "\n",
    "os.chdir(parent_dir)\n",
    "\n",
    "print('Current working directory:', os.getcwd())"
   ]
  },
  {
   "cell_type": "code",
   "execution_count": null,
   "metadata": {},
   "outputs": [],
   "source": [
    "from se4g_helper import download_request, build_dataframe, update_dataset, update_dashboard_dataset\n",
    "# Download and get the dataframe file name\n",
    "dir = download_request(folder_out = 'data_prova')\n",
    "\n",
    "# Build the dataframe with the required structure\n",
    "df = build_dataframe(dir, folder_out = 'data_prova')\n",
    "\n",
    "# Update the final dataset\n",
    "new_df = update_dataset(df, folder_out = 'data_prova')\n",
    "# Update the dashboard dataset \n",
    "update_dashboard_dataset(df,folder_out = 'data_prova')"
   ]
  },
  {
   "cell_type": "code",
   "execution_count": 20,
   "metadata": {},
   "outputs": [],
   "source": [
    "ip = '192.168.30.19'\n",
    "ip = 'localhost'\n",
    "# Connect to the database\n",
    "conn = psycopg2.connect(\n",
    "    host = ip,\n",
    "    database = \"se4g\",\n",
    "    user = \"postgres\",\n",
    "    password = \"carIs3198\"\n",
    ")"
   ]
  },
  {
   "cell_type": "code",
   "execution_count": 15,
   "metadata": {},
   "outputs": [],
   "source": [
    "def insert_data(table_name, conn, df):\n",
    "    cur = conn.cursor()\n",
    "    \n",
    "    # Specify the table name and column names\n",
    "    df_columns = ['station_code', \n",
    "                'station_name', \n",
    "                'station_altitude', \n",
    "                'network_countrycode', \n",
    "                'pollutant', \n",
    "                'value_datetime_begin',\n",
    "                'value_datetime_end',\n",
    "                'value_datetime_updated',\n",
    "                'value_numeric']\n",
    "\n",
    "    # Iterate over the DataFrame rows and insert data row by row\n",
    "    for _, row in df.iterrows():\n",
    "        # Generate the SQL INSERT statement\n",
    "        insert_statement = f\"INSERT INTO {table_name} ({', '.join(df_columns)}) VALUES (%s, %s, %s, %s, %s, %s, %s, %s, %s)\"\n",
    "        values = tuple(row[col] for col in df_columns)\n",
    "\n",
    "        # Execute the INSERT statement\n",
    "        cur.execute(insert_statement, values)\n",
    "\n",
    "    \n",
    "    # Commit the changes and close the cursor \n",
    "    conn.commit()\n",
    "    cur.close()\n",
    "\n",
    "# Call the insert_data function with the table name and connection\n",
    "insert_data('se4g_pollution', conn, new_df)\n"
   ]
  },
  {
   "cell_type": "code",
   "execution_count": null,
   "metadata": {},
   "outputs": [],
   "source": [
    "# Dislpay table\n",
    "query = \"SELECT * FROM se4g_pollution\"\n",
    "df = pd.read_sql_query(query, conn)\n",
    "\n",
    "print(df)"
   ]
  },
  {
   "cell_type": "code",
   "execution_count": 29,
   "metadata": {},
   "outputs": [
    {
     "name": "stdout",
     "output_type": "stream",
     "text": [
      "   pollutant    value_datetime_begin         value_datetime_end\n",
      "0        SO2  2023-05-29 07:00:00+00  2023-05-29 09:00:00+01:00\n",
      "1        SO2  2023-05-29 08:00:00+00  2023-05-29 10:00:00+01:00\n",
      "2        SO2  2023-05-29 09:00:00+00  2023-05-29 11:00:00+01:00\n",
      "3         NO  2023-05-29 07:00:00+00  2023-05-29 09:00:00+01:00\n",
      "4         NO  2023-05-29 08:00:00+00  2023-05-29 10:00:00+01:00\n",
      "5         NO  2023-05-29 09:00:00+00  2023-05-29 11:00:00+01:00\n",
      "6        NO2  2023-05-29 07:00:00+00  2023-05-29 09:00:00+01:00\n",
      "7        NO2  2023-05-29 08:00:00+00  2023-05-29 10:00:00+01:00\n",
      "8        NO2  2023-05-29 09:00:00+00  2023-05-29 11:00:00+01:00\n",
      "9         CO  2023-05-29 07:00:00+00  2023-05-29 09:00:00+01:00\n",
      "10        CO  2023-05-29 08:00:00+00  2023-05-29 10:00:00+01:00\n",
      "11        CO  2023-05-29 09:00:00+00  2023-05-29 11:00:00+01:00\n",
      "12      PM10  2023-05-29 07:00:00+00  2023-05-29 09:00:00+01:00\n",
      "13      PM10  2023-05-29 08:00:00+00  2023-05-29 10:00:00+01:00\n",
      "14      PM10  2023-05-29 09:00:00+00  2023-05-29 11:00:00+01:00\n"
     ]
    }
   ],
   "source": [
    "# Create a cursor\n",
    "cur = conn.cursor()\n",
    "\n",
    "# Specify the datetime value\n",
    "datetime_value_begin = '2023-05-29 08:00:00+01:00'\n",
    "datetime_value_end = '2023-05-29 12:00:00+01:00'\n",
    "\n",
    "# Specify the network countrycode\n",
    "network_countrycode = 'AD'\n",
    "\n",
    "# Construct the SQL query with the conditions\n",
    "query = f\"SELECT pollutant, value_datetime_begin, value_datetime_end FROM se4g_pollution WHERE value_datetime_end > %s AND value_datetime_end < %s AND network_countrycode = %s\"\n",
    "\n",
    "# Execute the query\n",
    "cur.execute(query, (datetime_value_begin, datetime_value_end, network_countrycode))\n",
    "\n",
    "# Fetch all rows from the result set\n",
    "rows = cur.fetchall()\n",
    "\n",
    "# Get the column names\n",
    "columns = [desc[0] for desc in cur.description]\n",
    "\n",
    "# Create a pandas DataFrame from the rows and columns\n",
    "df = pd.DataFrame(rows, columns=columns)\n",
    "\n",
    "# Close the cursor\n",
    "cur.close()\n",
    "\n",
    "print(df)"
   ]
  },
  {
   "cell_type": "code",
   "execution_count": null,
   "metadata": {},
   "outputs": [],
   "source": [
    "conn.close()"
   ]
  },
  {
   "cell_type": "code",
   "execution_count": null,
   "metadata": {},
   "outputs": [],
   "source": [
    "cur.execute('''UPDATE pollutant_detection\n",
    " (station_code TEXT , \n",
    " name_pollutant TEXT, \n",
    " data_time_begin DATE, \n",
    " data_time_end DATE,\n",
    " data_time_update DATE,\n",
    " value_pollutant DECIMAL,\n",
    " PRIMARY KEY (name_pollutant, station_code, data_time_begin,data_time_end ))''')"
   ]
  }
 ],
 "metadata": {
  "kernelspec": {
   "display_name": "se4g",
   "language": "python",
   "name": "python3"
  },
  "language_info": {
   "codemirror_mode": {
    "name": "ipython",
    "version": 3
   },
   "file_extension": ".py",
   "mimetype": "text/x-python",
   "name": "python",
   "nbconvert_exporter": "python",
   "pygments_lexer": "ipython3",
   "version": "3.11.0"
  },
  "orig_nbformat": 4
 },
 "nbformat": 4,
 "nbformat_minor": 2
}
