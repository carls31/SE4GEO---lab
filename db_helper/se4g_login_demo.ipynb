{
 "cells": [
  {
   "cell_type": "code",
   "execution_count": 1,
   "metadata": {},
   "outputs": [],
   "source": [
    "import os\n",
    "import requests\n",
    "import pandas as pd\n",
    "from datetime import datetime\n",
    "import ipywidgets as widgets\n",
    "from IPython.display import display\n",
    "from sqlalchemy import create_engine"
   ]
  },
  {
   "cell_type": "code",
   "execution_count": 15,
   "metadata": {},
   "outputs": [],
   "source": [
    "class Login:\n",
    "    def __init__(self):\n",
    "        self.user_list = {'admin': 'admin', 'lorenzo': 'lore', 'angelica': 'ange', 'emma': 'em', 'virginia': 'virgi'}\n",
    "    \n",
    "    def check_credentials(self, username, password):\n",
    "        if username in self.user_list:\n",
    "            if self.user_list[username] == password:\n",
    "                return True\n",
    "        return False\n",
    "    \n",
    "    def register_user(self, username, password):\n",
    "        if username not in self.user_list:\n",
    "            self.user_list[username] = password\n",
    "            return True\n",
    "        return False"
   ]
  },
  {
   "cell_type": "code",
   "execution_count": 16,
   "metadata": {},
   "outputs": [],
   "source": [
    "# User login \n",
    "def DB_login():\n",
    "    user = widgets.Text(\n",
    "        placeholder='Type postgres',\n",
    "        description='Username:',\n",
    "        disabled=False   \n",
    "    )\n",
    "\n",
    "    psw = widgets.Password(\n",
    "        placeholder='Enter password',\n",
    "        description='Password:',\n",
    "        disabled=False\n",
    "    )\n",
    "    \n",
    "    login_button = widgets.Button(description=\"Login\")\n",
    "    display(user, psw, login_button)\n",
    "\n",
    "    login = Login()\n",
    "\n",
    "    def handle_login_button_click(button):\n",
    "        username = user.value\n",
    "        password = psw.value\n",
    "\n",
    "        if login.check_credentials(username, password):\n",
    "            \n",
    "            ip = 'localhost'\n",
    "            db = 'se4g'\n",
    "            db_username = 'postgres'\n",
    "            port = '5432'\n",
    "            # Connect to the database\n",
    "            file = 'bin.txt'\n",
    "            with open('code/'+file, 'r') as f:\n",
    "                engine = create_engine('postgresql://'+db_username+':'+f.read()+'@'+ip+':'+port+'/'+db) \n",
    "            con = engine.connect()\n",
    "            # Perform any necessary database operations\n",
    "            # ...\n",
    "            # Return the database connection or perform any other actions\n",
    "            print(\"Login successful! Connected with\",ip)\n",
    "            return con\n",
    "        else:\n",
    "            print(\"Invalid username or password.\")\n",
    "\n",
    "    login_button.on_click(handle_login_button_click)\n"
   ]
  },
  {
   "cell_type": "code",
   "execution_count": 17,
   "metadata": {},
   "outputs": [
    {
     "data": {
      "application/vnd.jupyter.widget-view+json": {
       "model_id": "3c8744a10bb448f891773261334455fe",
       "version_major": 2,
       "version_minor": 0
      },
      "text/plain": [
       "Text(value='', description='Username:', placeholder='Type postgres')"
      ]
     },
     "metadata": {},
     "output_type": "display_data"
    },
    {
     "data": {
      "application/vnd.jupyter.widget-view+json": {
       "model_id": "270cca90cfcc43f4bb9520eeafa1b0f9",
       "version_major": 2,
       "version_minor": 0
      },
      "text/plain": [
       "Password(description='Password:', placeholder='Enter password')"
      ]
     },
     "metadata": {},
     "output_type": "display_data"
    },
    {
     "data": {
      "application/vnd.jupyter.widget-view+json": {
       "model_id": "1da1b7fa14804763b20dd17d2bb5d371",
       "version_major": 2,
       "version_minor": 0
      },
      "text/plain": [
       "Button(description='Login', style=ButtonStyle())"
      ]
     },
     "metadata": {},
     "output_type": "display_data"
    },
    {
     "name": "stdout",
     "output_type": "stream",
     "text": [
      "Login successful! Connected with localhost\n",
      "Login successful! Connected with localhost\n",
      "Login successful! Connected with localhost\n"
     ]
    }
   ],
   "source": [
    "DB_login()"
   ]
  },
  {
   "cell_type": "code",
   "execution_count": null,
   "metadata": {},
   "outputs": [],
   "source": [
    "login = Login()\n",
    "\n",
    "username = input(\"Username: \")\n",
    "password = input(\"Password: \")\n",
    "\n",
    "if login.check_credentials(username, password):\n",
    "    print(\"Login successful!\")\n",
    "else:\n",
    "    print(\"Invalid username or password.\")\n",
    "\n",
    "new_username = input(\"New username: \")\n",
    "new_password = input(\"New password: \")\n",
    "\n",
    "if login.register_user(new_username, new_password):\n",
    "    print(\"User registered successfully!\")\n",
    "else:\n",
    "    print(\"Username is already taken.\")"
   ]
  }
 ],
 "metadata": {
  "kernelspec": {
   "display_name": "se4g",
   "language": "python",
   "name": "python3"
  },
  "language_info": {
   "codemirror_mode": {
    "name": "ipython",
    "version": 3
   },
   "file_extension": ".py",
   "mimetype": "text/x-python",
   "name": "python",
   "nbconvert_exporter": "python",
   "pygments_lexer": "ipython3",
   "version": "3.11.0"
  },
  "orig_nbformat": 4
 },
 "nbformat": 4,
 "nbformat_minor": 2
}
