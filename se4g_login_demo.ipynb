{
 "cells": [
  {
   "cell_type": "code",
   "execution_count": 1,
   "metadata": {},
   "outputs": [],
   "source": [
    "from se4g_helper import *"
   ]
  },
  {
   "cell_type": "code",
   "execution_count": 2,
   "metadata": {},
   "outputs": [],
   "source": [
    "# import packages\n",
    "import os\n",
    "import requests\n",
    "import pandas as pd\n",
    "from datetime import datetime\n",
    "import ipywidgets as widgets\n",
    "from IPython.display import display\n",
    "from sqlalchemy import create_engine\n",
    "import pandas as pd"
   ]
  },
  {
   "cell_type": "code",
   "execution_count": 3,
   "metadata": {},
   "outputs": [
    {
     "name": "stdout",
     "output_type": "stream",
     "text": [
      "List of functions in se4g_helper module:\n",
      "DB_login\n",
      "Login\n",
      "Register\n",
      "build_dataframe\n",
      "create_engine\n",
      "datetime\n",
      "display\n",
      "download_DB\n",
      "download_request\n",
      "insert_data\n",
      "insert_data_from_CSV\n",
      "login_required\n",
      "table_exists\n",
      "update_DB\n",
      "update_DB_from_CSV\n",
      "update_dashboard_DB_from_CSV\n",
      "update_dashboard_dataset\n",
      "update_dataset\n"
     ]
    }
   ],
   "source": [
    "# List of functions in se4g_helper\n",
    "import se4g_helper\n",
    "\n",
    "function_list = dir(se4g_helper)\n",
    "function_list = [name for name in dir(se4g_helper) if callable(getattr(se4g_helper, name))]\n",
    "\n",
    "\n",
    "print(\"List of functions in se4g_helper module:\")\n",
    "for function_name in function_list:\n",
    "    print(function_name)"
   ]
  },
  {
   "cell_type": "code",
   "execution_count": null,
   "metadata": {},
   "outputs": [],
   "source": [
    "# Set the working directory\n",
    "current_dir = os.getcwd()\n",
    "print('current_dir: ',current_dir)\n",
    "parent_dir = os.path.dirname(current_dir)\n",
    "\n",
    "os.chdir(parent_dir)\n",
    "\n",
    "print('Current working directory:', os.getcwd())"
   ]
  },
  {
   "cell_type": "code",
   "execution_count": null,
   "metadata": {},
   "outputs": [],
   "source": [
    "# Create admins csv\n",
    "admins = {'admin': 'admin', 'lorenzo': 'lore', 'angelica': 'ange', 'emma': 'em', 'virginia': 'virgi'}\n",
    "\n",
    "data = {'Username': list(admins.keys()), 'Password': list(admins.values())}\n",
    "df = pd.DataFrame(data)\n",
    "\n",
    "folder = 'data'\n",
    "filename = 'admins.csv'\n",
    "path_file = os.path.join(folder,filename)\n",
    "df.to_csv(path_file, index=False)\n",
    "\n",
    "print(f\"Data saved to {path_file} successfully.\")"
   ]
  },
  {
   "cell_type": "code",
   "execution_count": 2,
   "metadata": {},
   "outputs": [
    {
     "data": {
      "application/vnd.jupyter.widget-view+json": {
       "model_id": "73ab2246774347f5b580f22bb01bc74b",
       "version_major": 2,
       "version_minor": 0
      },
      "text/plain": [
       "Text(value='', description='Username:', placeholder='Type postgres')"
      ]
     },
     "metadata": {},
     "output_type": "display_data"
    },
    {
     "data": {
      "application/vnd.jupyter.widget-view+json": {
       "model_id": "7c5a2de4d4e842d2ad2ebefad994d7ce",
       "version_major": 2,
       "version_minor": 0
      },
      "text/plain": [
       "Password(description='Password:', placeholder='Enter password')"
      ]
     },
     "metadata": {},
     "output_type": "display_data"
    },
    {
     "data": {
      "application/vnd.jupyter.widget-view+json": {
       "model_id": "530ed45551ea4281bca65cb58bc04c88",
       "version_major": 2,
       "version_minor": 0
      },
      "text/plain": [
       "Button(description='Login', style=ButtonStyle())"
      ]
     },
     "metadata": {},
     "output_type": "display_data"
    },
    {
     "name": "stdout",
     "output_type": "stream",
     "text": [
      "Login successful! Connected with localhost\n"
     ]
    }
   ],
   "source": [
    "DB_login()"
   ]
  },
  {
   "cell_type": "code",
   "execution_count": 3,
   "metadata": {},
   "outputs": [
    {
     "name": "stdout",
     "output_type": "stream",
     "text": [
      "Registrations saved to data\\registrations.csv successfully.\n",
      "Registrations saved to data\\registrations.csv successfully.\n"
     ]
    }
   ],
   "source": [
    "register = Register()\n",
    "register.add_registration('user4', 'password4')\n",
    "register.add_registration('user5', 'password5')"
   ]
  },
  {
   "cell_type": "code",
   "execution_count": 4,
   "metadata": {},
   "outputs": [
    {
     "data": {
      "application/vnd.jupyter.widget-view+json": {
       "model_id": "3a607300c5f840848f08f4cbe1a87e20",
       "version_major": 2,
       "version_minor": 0
      },
      "text/plain": [
       "HBox(children=(Label(value='user4'), Button(description='Admit', style=ButtonStyle()), Button(description='Rej…"
      ]
     },
     "metadata": {},
     "output_type": "display_data"
    },
    {
     "data": {
      "application/vnd.jupyter.widget-view+json": {
       "model_id": "557977d2633a4d7cb42193153a44d3a6",
       "version_major": 2,
       "version_minor": 0
      },
      "text/plain": [
       "HBox(children=(Label(value='user5'), Button(description='Admit', style=ButtonStyle()), Button(description='Rej…"
      ]
     },
     "metadata": {},
     "output_type": "display_data"
    },
    {
     "name": "stdout",
     "output_type": "stream",
     "text": [
      "Registrations saved to data\\registrations.csv successfully.\n",
      "user4 rejected!\n",
      "Registrations saved to data\\registrations.csv successfully.\n",
      "user5 rejected!\n"
     ]
    }
   ],
   "source": [
    "register.review_registrations()"
   ]
  },
  {
   "cell_type": "code",
   "execution_count": 5,
   "metadata": {},
   "outputs": [
    {
     "data": {
      "application/vnd.jupyter.widget-view+json": {
       "model_id": "6fa9a604e72a4e9a809d162303c689ab",
       "version_major": 2,
       "version_minor": 0
      },
      "text/plain": [
       "Text(value='', description='Username:', placeholder='Type postgres')"
      ]
     },
     "metadata": {},
     "output_type": "display_data"
    },
    {
     "data": {
      "application/vnd.jupyter.widget-view+json": {
       "model_id": "8a97ed002f2a44769305fa73d0d7b7a7",
       "version_major": 2,
       "version_minor": 0
      },
      "text/plain": [
       "Password(description='Password:', placeholder='Enter password')"
      ]
     },
     "metadata": {},
     "output_type": "display_data"
    },
    {
     "data": {
      "application/vnd.jupyter.widget-view+json": {
       "model_id": "2e7f1cef70404d57b966030903ce2b5a",
       "version_major": 2,
       "version_minor": 0
      },
      "text/plain": [
       "Button(description='Login', style=ButtonStyle())"
      ]
     },
     "metadata": {},
     "output_type": "display_data"
    },
    {
     "name": "stdout",
     "output_type": "stream",
     "text": [
      "Login successful!\n"
     ]
    }
   ],
   "source": [
    "login_required()"
   ]
  }
 ],
 "metadata": {
  "kernelspec": {
   "display_name": "se4g",
   "language": "python",
   "name": "python3"
  },
  "language_info": {
   "codemirror_mode": {
    "name": "ipython",
    "version": 3
   },
   "file_extension": ".py",
   "mimetype": "text/x-python",
   "name": "python",
   "nbconvert_exporter": "python",
   "pygments_lexer": "ipython3",
   "version": "3.11.0"
  },
  "orig_nbformat": 4
 },
 "nbformat": 4,
 "nbformat_minor": 2
}
