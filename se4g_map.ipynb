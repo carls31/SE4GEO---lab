{
 "cells": [
  {
   "cell_type": "code",
   "execution_count": 1,
   "metadata": {},
   "outputs": [],
   "source": [
    "# import packages\n",
    "from se4g_helper import FoliumMap\n",
    "# Create an instance of the FoliumMap class\n",
    "folium_map = FoliumMap()"
   ]
  },
  {
   "cell_type": "code",
   "execution_count": null,
   "metadata": {},
   "outputs": [],
   "source": [
    "# Display the filter buttons\n",
    "selected_pollutant, selected_datetime = folium_map.select_filters()"
   ]
  },
  {
   "cell_type": "code",
   "execution_count": null,
   "metadata": {},
   "outputs": [],
   "source": [
    "# Attach the callback function to the dropdowns' value change event\n",
    "selected_pollutant.observe(folium_map.update_maps, 'value')\n",
    "selected_datetime.observe(folium_map.update_maps, 'value')\n",
    "\n",
    "# Initial map display\n",
    "folium_map.update_maps(None) "
   ]
  }
 ],
 "metadata": {
  "kernelspec": {
   "display_name": "se4g",
   "language": "python",
   "name": "python3"
  },
  "language_info": {
   "codemirror_mode": {
    "name": "ipython",
    "version": 3
   },
   "file_extension": ".py",
   "mimetype": "text/x-python",
   "name": "python",
   "nbconvert_exporter": "python",
   "pygments_lexer": "ipython3",
   "version": "3.11.0"
  },
  "orig_nbformat": 4
 },
 "nbformat": 4,
 "nbformat_minor": 2
}
