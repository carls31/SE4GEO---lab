{
 "cells": [
  {
   "attachments": {},
   "cell_type": "markdown",
   "metadata": {},
   "source": [
    "<img src=\"img/se4g_pic1.png\">"
   ]
  },
  {
   "cell_type": "code",
   "execution_count": null,
   "metadata": {
    "tags": []
   },
   "outputs": [],
   "source": [
    "from jupyter_dash import JupyterDash\n",
    "import dash\n",
    "from dash import dcc\n",
    "from dash import html\n",
    "import pandas as pd\n",
    "import os\n",
    "from datetime import datetime\n",
    "from se4g_helper import *\n",
    "import ipywidgets as widgets\n"
   ]
  },
  {
   "attachments": {},
   "cell_type": "markdown",
   "metadata": {},
   "source": [
    "Load dashboard table"
   ]
  },
  {
   "cell_type": "code",
   "execution_count": null,
   "metadata": {},
   "outputs": [],
   "source": [
    "def selection_from_source_table(table_name,conn):\n",
    "    \n",
    "    \n",
    "    cursor = conn.cursor()\n",
    "\n",
    "    # Generate the SQL statement to select data from the source table\n",
    "    select_data_query = f\"SELECT * FROM {table_name};\"\n",
    "\n",
    "    # Execute the SELECT command\n",
    "    cursor.execute(select_data_query)\n",
    "\n",
    "    columns = [desc[0] for desc in cursor.description]\n",
    "\n",
    "    # Fetch all the rows\n",
    "    rows = cursor.fetchall()\n",
    "\n",
    "    cursor.close()\n",
    "    conn.close()\n",
    "\n",
    "    # Create a pandas DataFrame from the fetched rows\n",
    "    df = pd.DataFrame(rows, columns=columns)\n",
    "\n",
    "    return df"
   ]
  },
  {
   "cell_type": "code",
   "execution_count": null,
   "metadata": {},
   "outputs": [],
   "source": [
    "import psycopg2\n",
    "\n",
    "def connect_to_database(host, port, database, user, password):\n",
    "    \"\"\"\n",
    "    Establishes a connection to a PostgreSQL database.\n",
    "\n",
    "    Args:\n",
    "        host (str): Hostname or IP address of the database server.\n",
    "        port (str): Port number for the database server.\n",
    "        database (str): Name of the database.\n",
    "        user (str): Username for database authentication.\n",
    "        password (str): Password for database authentication.\n",
    "\n",
    "    Returns:\n",
    "        connection (psycopg2.extensions.connection): PostgreSQL database connection object.\n",
    "    \"\"\"\n",
    "    try:\n",
    "        connection = psycopg2.connect(\n",
    "            host=host,\n",
    "            port=port,\n",
    "            database=database,\n",
    "            user=user,\n",
    "            password=password\n",
    "        )\n",
    "        print(\"Database connection established successfully.\")\n",
    "        return connection\n",
    "    except psycopg2.Error as e:\n",
    "        print(f\"Error connecting to the database: {e}\")\n",
    "\n",
    "# Example usage\n",
    "conn = connect_to_database('your_host', 'your_port', 'your_database', 'your_user', 'your_password')\n",
    "\n",
    "#Funzionerà?  -----> bello con il try !!!\n",
    "\n",
    "\n",
    "\n",
    "\n"
   ]
  },
  {
   "cell_type": "code",
   "execution_count": null,
   "metadata": {},
   "outputs": [],
   "source": [
    "#from this I will obtain a DF that contains all the columns and the rows of our table pollutant_detection\n",
    "conn = connect_right_now()\n",
    "\n",
    "table_name='pollutant_detection'\n",
    "\n",
    "df_pollutant=selection_from_source_table(table_name,conn)"
   ]
  },
  {
   "cell_type": "code",
   "execution_count": null,
   "metadata": {},
   "outputs": [],
   "source": [
    "df_pollutant.head()"
   ]
  },
  {
   "cell_type": "code",
   "execution_count": null,
   "metadata": {},
   "outputs": [],
   "source": [
    "from datetime import datetime\n",
    "import pandas as pd\n",
    "\n",
    "df_pollutant['date_time_end'] = pd.to_datetime(df_pollutant['date_time_end'], format='%Y-%m-%d %H:%M:%S%z')\n",
    "\n",
    "day = df_pollutant['date_time_end'].dt.day"
   ]
  },
  {
   "cell_type": "code",
   "execution_count": null,
   "metadata": {},
   "outputs": [],
   "source": [
    "datetime_objects = df_pollutant['date_time_end'][0:10].apply(lambda x: x.to_pydatetime())\n",
    "\n",
    "formatted_datetimes = datetime_objects.apply(lambda x: x.strftime('%m-%d_%H'))\n",
    "\n",
    "print(f\"Formatted datetime objects: {formatted_datetimes.max()}\")"
   ]
  },
  {
   "cell_type": "code",
   "execution_count": null,
   "metadata": {},
   "outputs": [],
   "source": [
    "#from this I will obtain a DF that contains all the columns and the rows of our table station\n",
    "table_name = 'station'\n",
    "\n",
    "df_station=selection_from_source_table(table_name,conn)"
   ]
  },
  {
   "cell_type": "code",
   "execution_count": null,
   "metadata": {},
   "outputs": [],
   "source": [
    "\n",
    "df_station.head()"
   ]
  },
  {
   "cell_type": "code",
   "execution_count": null,
   "metadata": {},
   "outputs": [],
   "source": [
    "# Dropdown widgets for country and pollutant selection\n",
    "country_dropdown = widgets.Dropdown(\n",
    "    options=df_station['network_country'].unique(),\n",
    "    description='Country:'\n",
    ")\n",
    "\n",
    "pollutant_dropdown = widgets.Dropdown(\n",
    "    description='Pollutant:'\n",
    ")\n",
    "\n",
    "# Text widget to display statistics\n",
    "statistics_text = widgets.Textarea(\n",
    "    description='Statistics:',\n",
    "    disabled=True,\n",
    "    layout={'width': '500px', 'height': '200px'}\n",
    ")\n",
    "\n",
    "# Function to update pollutants based on selected country\n",
    "def update_pollutants(change):\n",
    "    country = country_dropdown.value\n",
    "    \n",
    "    if country:\n",
    "        pollutants = df_pollutant[df_pollutant['station_code'].isin(df_station[df_station['network_country'] == country]['station_code'])]['pollutant'].unique()\n",
    "        pollutant_dropdown.options = pollutants\n",
    "        pollutant_dropdown.disabled = False\n",
    "    else:\n",
    "        pollutant_dropdown.options = []\n",
    "        pollutant_dropdown.disabled = True\n",
    "\n",
    "# Function to update statistics based on user selection\n",
    "def update_statistics(change):\n",
    "    country = country_dropdown.value\n",
    "    pollutant = pollutant_dropdown.value\n",
    "    \n",
    "    filtered_df = df_pollutant.merge(df_station, on='station_code')\n",
    "    filtered_df = filtered_df[(filtered_df['network_country'] == country) & (filtered_df['pollutant'] == pollutant)]\n",
    "    \n",
    "    mean_value = filtered_df['value_numeric'].mean()\n",
    "    max_value = filtered_df['value_numeric'].max()\n",
    "    min_value = filtered_df['value_numeric'].min()\n",
    "    \n",
    "    statistics_text.value = f\"Mean: {mean_value:.2f}\\nMax: {max_value}\\nMin: {min_value}\"\n",
    "\n",
    "# Event listeners for dropdown selection\n",
    "country_dropdown.observe(update_pollutants, 'value')\n",
    "pollutant_dropdown.observe(update_statistics, 'value')"
   ]
  },
  {
   "cell_type": "code",
   "execution_count": null,
   "metadata": {},
   "outputs": [],
   "source": [
    "import matplotlib.pyplot as plt\n",
    "\n",
    "def plot_statistics(change):\n",
    "    country = country_dropdown.value\n",
    "    pollutant = pollutant_dropdown.value\n",
    "    \n",
    "    filtered_df = df_pollutant.merge(df_station, on='station_code')\n",
    "    filtered_df = filtered_df[(filtered_df['network_country'] == country) & (filtered_df['pollutant'] == pollutant)]\n",
    "    \n",
    "    mean_value = filtered_df['value_numeric'].mean()\n",
    "    max_value = filtered_df['value_numeric'].max()\n",
    "    min_value = filtered_df['value_numeric'].min()\n",
    "    \n",
    "    statistics_text.value = f\"Mean: {mean_value:.2f}\\nMax: {max_value}\\nMin: {min_value}\"\n",
    "    \n",
    "    # Create a bar plot of the statistics\n",
    "    stats = [mean_value, max_value, min_value]\n",
    "    labels = ['Mean', 'Max', 'Min']\n",
    "    \n",
    "    plt.figure(figsize=(8, 6))\n",
    "    plt.bar(labels, stats)\n",
    "    plt.xlabel('Statistic')\n",
    "    plt.ylabel('Value')\n",
    "    plt.title(f'Statistics for {pollutant} in {country}')\n",
    "    plt.show()\n",
    "\n",
    "# Event listener for dropdown selection\n",
    "pollutant_dropdown.observe(plot_statistics, 'value')\n",
    "\n",
    "# Display widgets\n",
    "display(country_dropdown)\n",
    "display(pollutant_dropdown)\n",
    "display(statistics_text)"
   ]
  },
  {
   "attachments": {},
   "cell_type": "markdown",
   "metadata": {},
   "source": [
    "Construct the app and callbacks"
   ]
  },
  {
   "cell_type": "code",
   "execution_count": 3,
   "metadata": {},
   "outputs": [],
   "source": [
    "external_stylesheets = ['https://codepen.io/chriddyp/pen/bWLwgP.css']\n",
    " \n",
    "app = JupyterDash(__name__, external_stylesheets=external_stylesheets)\n",
    "\n",
    "# Create server variable with Flask server object for use with gunicorn\n",
    "server = app.server\n",
    "\n",
    "app.layout = html.Div([\n",
    "    html.Div([\n",
    "\n",
    "        html.Div([\n",
    "            dcc.Dropdown(\n",
    "                id='crossfilter-xaxis-column',\n",
    "                options=[{'label': i, 'value': i} for i in available_indicators],\n",
    "                value='SO2'\n",
    "            ),\n",
    "            dcc.RadioItems(\n",
    "                id='crossfilter-xaxis-type',\n",
    "                options=[{'label': i, 'value': i} for i in ['Linear', 'Log']],\n",
    "                value='Linear',\n",
    "                labelStyle={'display': 'inline-block'}\n",
    "            )\n",
    "        ],\n",
    "        style={'width': '49%', 'display': 'inline-block'}),\n",
    "\n",
    "        html.Div([\n",
    "            dcc.Dropdown(\n",
    "                id='crossfilter-yaxis-column',\n",
    "                options=[{'label': i, 'value': i} for i in available_indicators],\n",
    "                value='CO'\n",
    "            ),\n",
    "            dcc.RadioItems(\n",
    "                id='crossfilter-yaxis-type',\n",
    "                options=[{'label': i, 'value': i} for i in ['Linear', 'Log']],\n",
    "                value='Linear',\n",
    "                labelStyle={'display': 'inline-block'}\n",
    "            )\n",
    "        ], style={'width': '49%', 'float': 'right', 'display': 'inline-block'})\n",
    "    ], style={\n",
    "        'borderBottom': 'thin lightgrey solid',\n",
    "        'backgroundColor': 'rgb(250, 250, 250)',\n",
    "        'padding': '10px 5px'\n",
    "    }),\n",
    "\n",
    "    html.Div([\n",
    "        dcc.Graph(\n",
    "            id='crossfilter-indicator-scatter',\n",
    "            hoverData={'points': [{'customdata': 'Andorra'}]}\n",
    "        )\n",
    "    ], style={'width': '49%', 'display': 'inline-block', 'padding': '0 20'}),\n",
    "    html.Div([\n",
    "        dcc.Graph(id='x-time-series'),\n",
    "        dcc.Graph(id='y-time-series'),\n",
    "    ], style={'display': 'inline-block', 'width': '49%'}),\n",
    "\n",
    "    html.Div(dcc.Slider(\n",
    "        id='crossfilter-year--slider',\n",
    "        min=df['day'].min(),\n",
    "        max=df['day'].max(),\n",
    "        value=df['day'].max(),\n",
    "        marks={str(hour): str(hour) for hour in df['day'].unique()},\n",
    "        step=None\n",
    "    ), style={'width': '49%', 'padding': '0px 20px 20px 20px'})\n",
    "])\n",
    "\n",
    "\n",
    "@app.callback(\n",
    "    dash.dependencies.Output('crossfilter-indicator-scatter', 'figure'),\n",
    "    [dash.dependencies.Input('crossfilter-xaxis-column', 'value'),\n",
    "     dash.dependencies.Input('crossfilter-yaxis-column', 'value'),\n",
    "     dash.dependencies.Input('crossfilter-xaxis-type', 'value'),\n",
    "     dash.dependencies.Input('crossfilter-yaxis-type', 'value'),\n",
    "     dash.dependencies.Input('crossfilter-year--slider', 'value')])\n",
    "def update_graph(xaxis_column_name, yaxis_column_name,\n",
    "                 xaxis_type, yaxis_type,\n",
    "                 year_value):\n",
    "    dff = df[df['day'] == year_value]\n",
    "\n",
    "    return {\n",
    "        'data': [dict(\n",
    "            x=dff[dff['pollutant'] == xaxis_column_name]['value_numeric_mean'],\n",
    "            y=dff[dff['pollutant'] == yaxis_column_name]['value_numeric_mean'],\n",
    "            text=dff[dff['pollutant'] == yaxis_column_name]['country'],\n",
    "            customdata=dff[dff['pollutant'] == yaxis_column_name]['country'],\n",
    "            mode='markers',\n",
    "            marker={\n",
    "                'size': 25,\n",
    "                'opacity': 0.7,\n",
    "                'color': 'orange',\n",
    "                'line': {'width': 2, 'color': 'purple'}\n",
    "            }\n",
    "        )],\n",
    "        'layout': dict(\n",
    "            xaxis={\n",
    "                'title': xaxis_column_name,\n",
    "                'type': 'linear' if xaxis_type == 'Linear' else 'log'\n",
    "            },\n",
    "            yaxis={\n",
    "                'title': yaxis_column_name,\n",
    "                'type': 'linear' if yaxis_type == 'Linear' else 'log'\n",
    "            },\n",
    "            margin={'l': 40, 'b': 30, 't': 10, 'r': 0},\n",
    "            height=450,\n",
    "            hovermode='closest'\n",
    "        )\n",
    "    }\n",
    "\n",
    "\n",
    "def create_time_series(dff, axis_type, title):\n",
    "    return {\n",
    "        'data': [dict(\n",
    "            x=dff['day'],\n",
    "            y=dff['value_numeric_mean'],\n",
    "            mode='lines+markers'\n",
    "        )],\n",
    "        'layout': {\n",
    "            'height': 225,\n",
    "            'margin': {'l': 20, 'b': 30, 'r': 10, 't': 10},\n",
    "            'annotations': [{\n",
    "                'x': 0, 'y': 0.85, 'xanchor': 'left', 'yanchor': 'bottom',\n",
    "                'xref': 'paper', 'yref': 'paper', 'showarrow': False,\n",
    "                'align': 'left', 'bgcolor': 'rgba(255, 255, 255, 0.5)',\n",
    "                'text': title\n",
    "            }],\n",
    "            'yaxis': {'type': 'linear' if axis_type == 'Linear' else 'log'},\n",
    "            'xaxis': {'showgrid': False}\n",
    "        }\n",
    "    }\n",
    "\n",
    "\n",
    "@app.callback(\n",
    "    dash.dependencies.Output('x-time-series', 'figure'),\n",
    "    [dash.dependencies.Input('crossfilter-indicator-scatter', 'hoverData'),\n",
    "     dash.dependencies.Input('crossfilter-xaxis-column', 'value'),\n",
    "     dash.dependencies.Input('crossfilter-xaxis-type', 'value')])\n",
    "def update_y_timeseries(hoverData, xaxis_column_name, axis_type):\n",
    "    country_name = hoverData['points'][0]['customdata']\n",
    "    dff = df[df['country'] == country_name]\n",
    "    dff = dff[dff['pollutant'] == xaxis_column_name]\n",
    "    title = '<b>{}</b><br>{}'.format(country_name, xaxis_column_name)\n",
    "    return create_time_series(dff, axis_type, title)\n",
    "\n",
    " \n",
    "@app.callback(\n",
    "    dash.dependencies.Output('y-time-series', 'figure'),\n",
    "    [dash.dependencies.Input('crossfilter-indicator-scatter', 'hoverData'),\n",
    "     dash.dependencies.Input('crossfilter-yaxis-column', 'value'),\n",
    "     dash.dependencies.Input('crossfilter-yaxis-type', 'value')])\n",
    "def update_x_timeseries(hoverData, yaxis_column_name, axis_type):\n",
    "    dff = df[df['country'] == hoverData['points'][0]['customdata']]\n",
    "    dff = dff[dff['pollutant'] == yaxis_column_name]\n",
    "    return create_time_series(dff, axis_type, yaxis_column_name)"
   ]
  },
  {
   "attachments": {},
   "cell_type": "markdown",
   "metadata": {},
   "source": [
    "Serve the app using `run_server`.  Unlike the standard `Dash.run_server` method, the `JupyterDash.run_server` method doesn't block execution of the notebook. It serves the app in a background thread, making it possible to run other notebook calculations while the app is running.\n",
    "\n",
    "This makes it possible to iteratively update the app without rerunning the potentially expensive data processing steps."
   ]
  },
  {
   "cell_type": "code",
   "execution_count": 4,
   "metadata": {},
   "outputs": [
    {
     "name": "stdout",
     "output_type": "stream",
     "text": [
      "Dash is running on http://127.0.0.1:8050/\n",
      "\n",
      "Dash app running on http://127.0.0.1:8050/\n"
     ]
    }
   ],
   "source": [
    "app.run_server()"
   ]
  },
  {
   "attachments": {},
   "cell_type": "markdown",
   "metadata": {},
   "source": [
    "By default, `run_server` displays a URL that you can click on to open the app in a browser tab. The `mode` argument to `run_server` can be used to change this behavior.  Setting `mode=\"inline\"` will display the app directly in the notebook output cell."
   ]
  },
  {
   "cell_type": "code",
   "execution_count": 5,
   "metadata": {},
   "outputs": [
    {
     "name": "stdout",
     "output_type": "stream",
     "text": [
      "Dash is running on http://127.0.0.1:8050/\n",
      "\n"
     ]
    },
    {
     "data": {
      "text/html": [
       "\n",
       "        <iframe\n",
       "            width=\"100%\"\n",
       "            height=\"650\"\n",
       "            src=\"http://127.0.0.1:8050/\"\n",
       "            frameborder=\"0\"\n",
       "            allowfullscreen\n",
       "            \n",
       "        ></iframe>\n",
       "        "
      ],
      "text/plain": [
       "<IPython.lib.display.IFrame at 0x138022dbc50>"
      ]
     },
     "metadata": {},
     "output_type": "display_data"
    }
   ],
   "source": [
    "app.run_server(mode=\"inline\")"
   ]
  },
  {
   "attachments": {},
   "cell_type": "markdown",
   "metadata": {},
   "source": [
    "When running in JupyterLab, with the `jupyterlab-dash` extension, setting `mode=\"jupyterlab\"` will open the app in a tab in JupyterLab."
   ]
  },
  {
   "cell_type": "code",
   "execution_count": 7,
   "metadata": {
    "tags": []
   },
   "outputs": [
    {
     "name": "stdout",
     "output_type": "stream",
     "text": [
      "Dash is running on http://127.0.0.1:8050/\n",
      "\n"
     ]
    }
   ],
   "source": [
    "app.run_server(mode=\"jupyterlab\")"
   ]
  },
  {
   "attachments": {},
   "cell_type": "markdown",
   "metadata": {
    "tags": []
   },
   "source": [
    "To run a notebook from another notebook you can use the magic function:\n",
    "    \n",
    "```\n",
    "%run .../other_notebook.ipynb\n",
    "```"
   ]
  },
  {
   "attachments": {},
   "cell_type": "markdown",
   "metadata": {},
   "source": [
    "<img src=\"img/se4g_pic2.png\">"
   ]
  }
 ],
 "metadata": {
  "jupytext": {
   "formats": "ipynb,py:percent"
  },
  "kernelspec": {
   "display_name": "Python 3 (ipykernel)",
   "language": "python",
   "name": "python3"
  },
  "language_info": {
   "codemirror_mode": {
    "name": "ipython",
    "version": 3
   },
   "file_extension": ".py",
   "mimetype": "text/x-python",
   "name": "python",
   "nbconvert_exporter": "python",
   "pygments_lexer": "ipython3",
   "version": "3.11.0"
  }
 },
 "nbformat": 4,
 "nbformat_minor": 4
}
