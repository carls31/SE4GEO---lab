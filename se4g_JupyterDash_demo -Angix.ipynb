{
 "cells": [
  {
   "attachments": {},
   "cell_type": "markdown",
   "metadata": {},
   "source": [
    "<img src=\"img/se4g_pic1.png\">"
   ]
  },
  {
   "cell_type": "code",
   "execution_count": 1,
   "metadata": {
    "tags": []
   },
   "outputs": [
    {
     "ename": "ModuleNotFoundError",
     "evalue": "No module named 'jupyter_dash'",
     "output_type": "error",
     "traceback": [
      "\u001b[1;31m---------------------------------------------------------------------------\u001b[0m",
      "\u001b[1;31mModuleNotFoundError\u001b[0m                       Traceback (most recent call last)",
      "Cell \u001b[1;32mIn[1], line 1\u001b[0m\n\u001b[1;32m----> 1\u001b[0m \u001b[38;5;28;01mfrom\u001b[39;00m \u001b[38;5;21;01mjupyter_dash\u001b[39;00m \u001b[38;5;28;01mimport\u001b[39;00m JupyterDash\n\u001b[0;32m      2\u001b[0m \u001b[38;5;28;01mimport\u001b[39;00m \u001b[38;5;21;01mdash\u001b[39;00m\n\u001b[0;32m      3\u001b[0m \u001b[38;5;28;01mfrom\u001b[39;00m \u001b[38;5;21;01mdash\u001b[39;00m \u001b[38;5;28;01mimport\u001b[39;00m dcc, html\n",
      "\u001b[1;31mModuleNotFoundError\u001b[0m: No module named 'jupyter_dash'"
     ]
    }
   ],
   "source": [
    "from jupyter_dash import JupyterDash\n",
    "import dash\n",
    "from dash import dcc, html\n",
    "import pandas as pd\n",
    "import os\n",
    "from datetime import datetime\n",
    "from se4g_helper import *\n",
    "import ipywidgets as widgets\n",
    "import psycopg2\n",
    "import matplotlib.pyplot as plt"
   ]
  },
  {
   "cell_type": "code",
   "execution_count": 3,
   "metadata": {},
   "outputs": [
    {
     "name": "stdout",
     "output_type": "stream",
     "text": [
      "connected with  localhost  through sqlalchemy\n",
      "connected with  localhost  through psycopg2\n"
     ]
    }
   ],
   "source": [
    "engine = connect_with_sqlalchemy()\n"
   ]
  },
  {
   "attachments": {},
   "cell_type": "markdown",
   "metadata": {},
   "source": [
    "Load dashboard table"
   ]
  },
  {
   "cell_type": "code",
   "execution_count": 4,
   "metadata": {},
   "outputs": [],
   "source": [
    "def create_df_from_table(table_name,conn = conn):\n",
    "    \n",
    "    cursor = conn.cursor()\n",
    "\n",
    "    # Generate the SQL statement to select data from the source table\n",
    "    select_data_query = f\"SELECT * FROM {table_name};\"\n",
    "\n",
    "    # Execute the SELECT command\n",
    "    cursor.execute(select_data_query)\n",
    "\n",
    "    columns = [desc[0] for desc in cursor.description]\n",
    "\n",
    "    # Fetch all the rows\n",
    "    rows = cursor.fetchall()\n",
    "\n",
    "    cursor.close()\n",
    "    conn.close()\n",
    "\n",
    "    # Create a pandas DataFrame from the fetched rows\n",
    "    df = pd.DataFrame(rows, columns=columns)\n",
    "    print(f'df {table_name} created')\n",
    "    return df"
   ]
  },
  {
   "cell_type": "code",
   "execution_count": 7,
   "metadata": {},
   "outputs": [
    {
     "name": "stdout",
     "output_type": "stream",
     "text": [
      "connected with  localhost  through psycopg2\n"
     ]
    }
   ],
   "source": [
    "#from this I will obtain a DF that contains all the columns and the rows of our table pollutant_detection\n",
    "conn = connect_right_now()\n",
    "\n",
    "table_name='pollutant_detection'\n",
    "\n",
    "df_pollutant=create_df_from_table(table_name,conn)\n",
    "\n",
    "df_pollutant.head()"
   ]
  },
  {
   "cell_type": "code",
   "execution_count": 13,
   "metadata": {},
   "outputs": [
    {
     "data": {
      "text/html": [
       "<div>\n",
       "<style scoped>\n",
       "    .dataframe tbody tr th:only-of-type {\n",
       "        vertical-align: middle;\n",
       "    }\n",
       "\n",
       "    .dataframe tbody tr th {\n",
       "        vertical-align: top;\n",
       "    }\n",
       "\n",
       "    .dataframe thead th {\n",
       "        text-align: right;\n",
       "    }\n",
       "</style>\n",
       "<table border=\"1\" class=\"dataframe\">\n",
       "  <thead>\n",
       "    <tr style=\"text-align: right;\">\n",
       "      <th></th>\n",
       "      <th>station_code</th>\n",
       "      <th>pollutant</th>\n",
       "      <th>value_datetime_begin</th>\n",
       "      <th>value_datetime_end</th>\n",
       "      <th>value_numeric</th>\n",
       "      <th>samplingpoint_x</th>\n",
       "      <th>samplingpoint_y</th>\n",
       "    </tr>\n",
       "  </thead>\n",
       "  <tbody>\n",
       "    <tr>\n",
       "      <th>0</th>\n",
       "      <td>AD0942A</td>\n",
       "      <td>CO</td>\n",
       "      <td>2023-05-30 09:00:00+01:00</td>\n",
       "      <td>2023-05-30 10:00:00+01:00</td>\n",
       "      <td>0.1</td>\n",
       "      <td>1.539138</td>\n",
       "      <td>42.509694</td>\n",
       "    </tr>\n",
       "    <tr>\n",
       "      <th>1</th>\n",
       "      <td>AD0942A</td>\n",
       "      <td>CO</td>\n",
       "      <td>2023-05-30 10:00:00+01:00</td>\n",
       "      <td>2023-05-30 11:00:00+01:00</td>\n",
       "      <td>0.1</td>\n",
       "      <td>1.539138</td>\n",
       "      <td>42.509694</td>\n",
       "    </tr>\n",
       "    <tr>\n",
       "      <th>2</th>\n",
       "      <td>AD0942A</td>\n",
       "      <td>CO</td>\n",
       "      <td>2023-05-30 11:00:00+01:00</td>\n",
       "      <td>2023-05-30 12:00:00+01:00</td>\n",
       "      <td>0.1</td>\n",
       "      <td>1.539138</td>\n",
       "      <td>42.509694</td>\n",
       "    </tr>\n",
       "    <tr>\n",
       "      <th>3</th>\n",
       "      <td>AD0942A</td>\n",
       "      <td>CO</td>\n",
       "      <td>2023-05-30 12:00:00+01:00</td>\n",
       "      <td>2023-05-30 13:00:00+01:00</td>\n",
       "      <td>0.1</td>\n",
       "      <td>1.539138</td>\n",
       "      <td>42.509694</td>\n",
       "    </tr>\n",
       "    <tr>\n",
       "      <th>4</th>\n",
       "      <td>AD0942A</td>\n",
       "      <td>CO</td>\n",
       "      <td>2023-05-30 13:00:00+01:00</td>\n",
       "      <td>2023-05-30 14:00:00+01:00</td>\n",
       "      <td>0.1</td>\n",
       "      <td>1.539138</td>\n",
       "      <td>42.509694</td>\n",
       "    </tr>\n",
       "  </tbody>\n",
       "</table>\n",
       "</div>"
      ],
      "text/plain": [
       "  station_code pollutant       value_datetime_begin  \\\n",
       "0      AD0942A        CO  2023-05-30 09:00:00+01:00   \n",
       "1      AD0942A        CO  2023-05-30 10:00:00+01:00   \n",
       "2      AD0942A        CO  2023-05-30 11:00:00+01:00   \n",
       "3      AD0942A        CO  2023-05-30 12:00:00+01:00   \n",
       "4      AD0942A        CO  2023-05-30 13:00:00+01:00   \n",
       "\n",
       "          value_datetime_end  value_numeric  samplingpoint_x  samplingpoint_y  \n",
       "0  2023-05-30 10:00:00+01:00            0.1         1.539138        42.509694  \n",
       "1  2023-05-30 11:00:00+01:00            0.1         1.539138        42.509694  \n",
       "2  2023-05-30 12:00:00+01:00            0.1         1.539138        42.509694  \n",
       "3  2023-05-30 13:00:00+01:00            0.1         1.539138        42.509694  \n",
       "4  2023-05-30 14:00:00+01:00            0.1         1.539138        42.509694  "
      ]
     },
     "execution_count": 13,
     "metadata": {},
     "output_type": "execute_result"
    }
   ],
   "source": [
    "df_pollutant.head()"
   ]
  },
  {
   "cell_type": "code",
   "execution_count": 11,
   "metadata": {},
   "outputs": [
    {
     "data": {
      "text/html": [
       "<div>\n",
       "<style scoped>\n",
       "    .dataframe tbody tr th:only-of-type {\n",
       "        vertical-align: middle;\n",
       "    }\n",
       "\n",
       "    .dataframe tbody tr th {\n",
       "        vertical-align: top;\n",
       "    }\n",
       "\n",
       "    .dataframe thead th {\n",
       "        text-align: right;\n",
       "    }\n",
       "</style>\n",
       "<table border=\"1\" class=\"dataframe\">\n",
       "  <thead>\n",
       "    <tr style=\"text-align: right;\">\n",
       "      <th></th>\n",
       "      <th>value_numeric</th>\n",
       "      <th>samplingpoint_x</th>\n",
       "      <th>samplingpoint_y</th>\n",
       "    </tr>\n",
       "  </thead>\n",
       "  <tbody>\n",
       "    <tr>\n",
       "      <th>count</th>\n",
       "      <td>1.575917e+06</td>\n",
       "      <td>1.765946e+06</td>\n",
       "      <td>1.765946e+06</td>\n",
       "    </tr>\n",
       "    <tr>\n",
       "      <th>mean</th>\n",
       "      <td>9.339360e+00</td>\n",
       "      <td>5.278903e+00</td>\n",
       "      <td>4.559729e+01</td>\n",
       "    </tr>\n",
       "    <tr>\n",
       "      <th>std</th>\n",
       "      <td>2.667145e+01</td>\n",
       "      <td>9.901418e+00</td>\n",
       "      <td>6.861315e+00</td>\n",
       "    </tr>\n",
       "    <tr>\n",
       "      <th>min</th>\n",
       "      <td>-4.321000e+01</td>\n",
       "      <td>-1.792167e+01</td>\n",
       "      <td>2.777260e+01</td>\n",
       "    </tr>\n",
       "    <tr>\n",
       "      <th>25%</th>\n",
       "      <td>1.000125e+00</td>\n",
       "      <td>-3.112980e+00</td>\n",
       "      <td>4.115078e+01</td>\n",
       "    </tr>\n",
       "    <tr>\n",
       "      <th>50%</th>\n",
       "      <td>5.000000e+00</td>\n",
       "      <td>7.003174e+00</td>\n",
       "      <td>4.709436e+01</td>\n",
       "    </tr>\n",
       "    <tr>\n",
       "      <th>75%</th>\n",
       "      <td>1.300000e+01</td>\n",
       "      <td>1.297460e+01</td>\n",
       "      <td>5.065323e+01</td>\n",
       "    </tr>\n",
       "    <tr>\n",
       "      <th>max</th>\n",
       "      <td>5.042000e+03</td>\n",
       "      <td>3.334778e+01</td>\n",
       "      <td>6.847701e+01</td>\n",
       "    </tr>\n",
       "  </tbody>\n",
       "</table>\n",
       "</div>"
      ],
      "text/plain": [
       "       value_numeric  samplingpoint_x  samplingpoint_y\n",
       "count   1.575917e+06     1.765946e+06     1.765946e+06\n",
       "mean    9.339360e+00     5.278903e+00     4.559729e+01\n",
       "std     2.667145e+01     9.901418e+00     6.861315e+00\n",
       "min    -4.321000e+01    -1.792167e+01     2.777260e+01\n",
       "25%     1.000125e+00    -3.112980e+00     4.115078e+01\n",
       "50%     5.000000e+00     7.003174e+00     4.709436e+01\n",
       "75%     1.300000e+01     1.297460e+01     5.065323e+01\n",
       "max     5.042000e+03     3.334778e+01     6.847701e+01"
      ]
     },
     "execution_count": 11,
     "metadata": {},
     "output_type": "execute_result"
    }
   ],
   "source": [
    "df_pollutant.describe()"
   ]
  },
  {
   "cell_type": "code",
   "execution_count": 17,
   "metadata": {},
   "outputs": [
    {
     "name": "stdout",
     "output_type": "stream",
     "text": [
      "connected with  localhost  through psycopg2\n"
     ]
    }
   ],
   "source": [
    "#from this we will obtain a df that contains all the columns and the rows of our station table\n",
    "\n",
    "conn = connect_right_now()\n",
    "table_name = 'station'\n",
    "\n",
    "df_station=create_df_from_table(table_name, conn)\n",
    "\n",
    "df_station.head()"
   ]
  },
  {
   "cell_type": "code",
   "execution_count": 21,
   "metadata": {},
   "outputs": [
    {
     "data": {
      "text/html": [
       "<div>\n",
       "<style scoped>\n",
       "    .dataframe tbody tr th:only-of-type {\n",
       "        vertical-align: middle;\n",
       "    }\n",
       "\n",
       "    .dataframe tbody tr th {\n",
       "        vertical-align: top;\n",
       "    }\n",
       "\n",
       "    .dataframe thead th {\n",
       "        text-align: right;\n",
       "    }\n",
       "</style>\n",
       "<table border=\"1\" class=\"dataframe\">\n",
       "  <thead>\n",
       "    <tr style=\"text-align: right;\">\n",
       "      <th></th>\n",
       "      <th>station_code</th>\n",
       "      <th>station_name</th>\n",
       "      <th>station_altitude</th>\n",
       "      <th>network_countrycode</th>\n",
       "      <th>samplingpoint_x</th>\n",
       "      <th>samplingpoint_y</th>\n",
       "    </tr>\n",
       "  </thead>\n",
       "  <tbody>\n",
       "    <tr>\n",
       "      <th>0</th>\n",
       "      <td>AD0942A</td>\n",
       "      <td>Escaldes-Engordany</td>\n",
       "      <td>1080.0</td>\n",
       "      <td>AD</td>\n",
       "      <td>1.539138</td>\n",
       "      <td>42.509694</td>\n",
       "    </tr>\n",
       "    <tr>\n",
       "      <th>1</th>\n",
       "      <td>AT0ENK1</td>\n",
       "      <td>Enzenkirchen im Sauwald</td>\n",
       "      <td>525.0</td>\n",
       "      <td>AT</td>\n",
       "      <td>13.670860</td>\n",
       "      <td>48.391640</td>\n",
       "    </tr>\n",
       "    <tr>\n",
       "      <th>2</th>\n",
       "      <td>AT0ILL1</td>\n",
       "      <td>Illmitz am Neusiedler See</td>\n",
       "      <td>117.0</td>\n",
       "      <td>AT</td>\n",
       "      <td>16.766390</td>\n",
       "      <td>47.770280</td>\n",
       "    </tr>\n",
       "    <tr>\n",
       "      <th>3</th>\n",
       "      <td>AT0KLH1</td>\n",
       "      <td>Klöch bei Bad Radkersburg</td>\n",
       "      <td>417.0</td>\n",
       "      <td>AT</td>\n",
       "      <td>15.956300</td>\n",
       "      <td>46.767200</td>\n",
       "    </tr>\n",
       "    <tr>\n",
       "      <th>4</th>\n",
       "      <td>AT0PIL1</td>\n",
       "      <td>Pillersdorf bei Retz</td>\n",
       "      <td>315.0</td>\n",
       "      <td>AT</td>\n",
       "      <td>15.936000</td>\n",
       "      <td>48.721200</td>\n",
       "    </tr>\n",
       "  </tbody>\n",
       "</table>\n",
       "</div>"
      ],
      "text/plain": [
       "  station_code               station_name  station_altitude  \\\n",
       "0      AD0942A         Escaldes-Engordany            1080.0   \n",
       "1      AT0ENK1    Enzenkirchen im Sauwald             525.0   \n",
       "2      AT0ILL1  Illmitz am Neusiedler See             117.0   \n",
       "3      AT0KLH1  Klöch bei Bad Radkersburg             417.0   \n",
       "4      AT0PIL1       Pillersdorf bei Retz             315.0   \n",
       "\n",
       "  network_countrycode  samplingpoint_x  samplingpoint_y  \n",
       "0                  AD         1.539138        42.509694  \n",
       "1                  AT        13.670860        48.391640  \n",
       "2                  AT        16.766390        47.770280  \n",
       "3                  AT        15.956300        46.767200  \n",
       "4                  AT        15.936000        48.721200  "
      ]
     },
     "execution_count": 21,
     "metadata": {},
     "output_type": "execute_result"
    }
   ],
   "source": [
    "df_station.head()"
   ]
  },
  {
   "cell_type": "code",
   "execution_count": 19,
   "metadata": {},
   "outputs": [
    {
     "data": {
      "text/html": [
       "<div>\n",
       "<style scoped>\n",
       "    .dataframe tbody tr th:only-of-type {\n",
       "        vertical-align: middle;\n",
       "    }\n",
       "\n",
       "    .dataframe tbody tr th {\n",
       "        vertical-align: top;\n",
       "    }\n",
       "\n",
       "    .dataframe thead th {\n",
       "        text-align: right;\n",
       "    }\n",
       "</style>\n",
       "<table border=\"1\" class=\"dataframe\">\n",
       "  <thead>\n",
       "    <tr style=\"text-align: right;\">\n",
       "      <th></th>\n",
       "      <th>station_altitude</th>\n",
       "      <th>samplingpoint_x</th>\n",
       "      <th>samplingpoint_y</th>\n",
       "    </tr>\n",
       "  </thead>\n",
       "  <tbody>\n",
       "    <tr>\n",
       "      <th>count</th>\n",
       "      <td>1536.000000</td>\n",
       "      <td>1536.000000</td>\n",
       "      <td>1536.000000</td>\n",
       "    </tr>\n",
       "    <tr>\n",
       "      <th>mean</th>\n",
       "      <td>253.980534</td>\n",
       "      <td>6.626442</td>\n",
       "      <td>46.832157</td>\n",
       "    </tr>\n",
       "    <tr>\n",
       "      <th>std</th>\n",
       "      <td>287.681201</td>\n",
       "      <td>9.697591</td>\n",
       "      <td>6.991689</td>\n",
       "    </tr>\n",
       "    <tr>\n",
       "      <th>min</th>\n",
       "      <td>0.000000</td>\n",
       "      <td>-17.921671</td>\n",
       "      <td>27.772597</td>\n",
       "    </tr>\n",
       "    <tr>\n",
       "      <th>25%</th>\n",
       "      <td>35.000000</td>\n",
       "      <td>-1.260764</td>\n",
       "      <td>41.754670</td>\n",
       "    </tr>\n",
       "    <tr>\n",
       "      <th>50%</th>\n",
       "      <td>158.000000</td>\n",
       "      <td>8.249244</td>\n",
       "      <td>48.163484</td>\n",
       "    </tr>\n",
       "    <tr>\n",
       "      <th>75%</th>\n",
       "      <td>398.500000</td>\n",
       "      <td>13.469503</td>\n",
       "      <td>51.059068</td>\n",
       "    </tr>\n",
       "    <tr>\n",
       "      <th>max</th>\n",
       "      <td>3106.000000</td>\n",
       "      <td>33.347778</td>\n",
       "      <td>68.477010</td>\n",
       "    </tr>\n",
       "  </tbody>\n",
       "</table>\n",
       "</div>"
      ],
      "text/plain": [
       "       station_altitude  samplingpoint_x  samplingpoint_y\n",
       "count       1536.000000      1536.000000      1536.000000\n",
       "mean         253.980534         6.626442        46.832157\n",
       "std          287.681201         9.697591         6.991689\n",
       "min            0.000000       -17.921671        27.772597\n",
       "25%           35.000000        -1.260764        41.754670\n",
       "50%          158.000000         8.249244        48.163484\n",
       "75%          398.500000        13.469503        51.059068\n",
       "max         3106.000000        33.347778        68.477010"
      ]
     },
     "execution_count": 19,
     "metadata": {},
     "output_type": "execute_result"
    }
   ],
   "source": [
    "df_station.describe()"
   ]
  },
  {
   "cell_type": "code",
   "execution_count": 22,
   "metadata": {},
   "outputs": [
    {
     "data": {
      "image/png": "[encoded data removed]",
      "text/plain": [
       "<Figure size 800x600 with 1 Axes>"
      ]
     },
     "metadata": {},
     "output_type": "display_data"
    },
    {
     "data": {
      "image/png": "[encoded data removed]",
      "text/plain": [
       "<Figure size 800x600 with 1 Axes>"
      ]
     },
     "metadata": {},
     "output_type": "display_data"
    },
    {
     "data": {
      "image/png": "[encoded data removed]",
      "text/plain": [
       "<Figure size 800x600 with 1 Axes>"
      ]
     },
     "metadata": {},
     "output_type": "display_data"
    },
    {
     "data": {
      "image/png": "[encoded data removed]",
      "text/plain": [
       "<Figure size 800x600 with 1 Axes>"
      ]
     },
     "metadata": {},
     "output_type": "display_data"
    },
    {
     "data": {
      "image/png": "[encoded data removed]",
      "text/plain": [
       "<Figure size 800x600 with 1 Axes>"
      ]
     },
     "metadata": {},
     "output_type": "display_data"
    },
    {
     "data": {
      "image/png": "[encoded data removed]",
      "text/plain": [
       "<Figure size 800x600 with 1 Axes>"
      ]
     },
     "metadata": {},
     "output_type": "display_data"
    },
    {
     "data": {
      "image/png": "[encoded data removed]",
      "text/plain": [
       "<Figure size 800x600 with 1 Axes>"
      ]
     },
     "metadata": {},
     "output_type": "display_data"
    }
   ],
   "source": [
    "# Dropdown widgets for country and pollutant selection\n",
    "country_dropdown = widgets.Dropdown(\n",
    "    options=df_station['network_countrycode'].unique(),\n",
    "    description='Country:'\n",
    ")\n",
    "\n",
    "pollutant_dropdown = widgets.Dropdown(\n",
    "    description='Pollutant:'\n",
    ")\n",
    "\n",
    "# Text widget to display statistics\n",
    "statistics_text = widgets.Textarea(\n",
    "    description='Statistics:',\n",
    "    disabled=True,\n",
    "    layout={'width': '500px', 'height': '200px'}\n",
    ")\n",
    "\n",
    "# Function to update pollutants based on selected country\n",
    "def update_pollutants(change):\n",
    "    country = country_dropdown.value\n",
    "    \n",
    "    if country:\n",
    "        pollutants = df_pollutant[df_pollutant['station_code'].isin(df_station[df_station['network_countrycode'] == country]['station_code'])]['pollutant'].unique()\n",
    "        pollutant_dropdown.options = pollutants\n",
    "        pollutant_dropdown.disabled = False\n",
    "    else:\n",
    "        pollutant_dropdown.options = []\n",
    "        pollutant_dropdown.disabled = True\n",
    "\n",
    "# Function to update statistics based on user selection\n",
    "def update_statistics(change):\n",
    "    country = country_dropdown.value\n",
    "    pollutant = pollutant_dropdown.value\n",
    "    \n",
    "    filtered_df = df_pollutant.merge(df_station, on='station_code')\n",
    "    filtered_df = filtered_df[(filtered_df['network_countrycode'] == country) & (filtered_df['pollutant'] == pollutant)]\n",
    "    \n",
    "    mean_value = filtered_df['value_numeric'].mean()\n",
    "    max_value = filtered_df['value_numeric'].max()\n",
    "    min_value = filtered_df['value_numeric'].min()\n",
    "    \n",
    "    statistics_text.value = f\"Mean: {mean_value:.2f}\\nMax: {max_value}\\nMin: {min_value}\"\n",
    "\n",
    "# Event listeners for dropdown selection\n",
    "country_dropdown.observe(update_pollutants, 'value')\n",
    "pollutant_dropdown.observe(update_statistics, 'value')"
   ]
  },
  {
   "cell_type": "code",
   "execution_count": 23,
   "metadata": {},
   "outputs": [
    {
     "data": {
      "application/vnd.jupyter.widget-view+json": {
       "model_id": "0826e9b6337d4be5898c9956c9568a88",
       "version_major": 2,
       "version_minor": 0
      },
      "text/plain": [
       "Dropdown(description='Country:', options=('AD', 'AT', 'BA', 'BE', 'BG', 'CH', 'CY', 'CZ', 'DE', 'DK', 'EE', 'E…"
      ]
     },
     "metadata": {},
     "output_type": "display_data"
    },
    {
     "data": {
      "application/vnd.jupyter.widget-view+json": {
       "model_id": "84f7bf3c6c5c4a759a7a60cdb01f55ca",
       "version_major": 2,
       "version_minor": 0
      },
      "text/plain": [
       "Dropdown(description='Pollutant:', options=(), value=None)"
      ]
     },
     "metadata": {},
     "output_type": "display_data"
    },
    {
     "data": {
      "application/vnd.jupyter.widget-view+json": {
       "model_id": "448f9e7b6b1d45f1b4b4d0f19c4cf414",
       "version_major": 2,
       "version_minor": 0
      },
      "text/plain": [
       "Textarea(value='', description='Statistics:', disabled=True, layout=Layout(height='200px', width='500px'))"
      ]
     },
     "metadata": {},
     "output_type": "display_data"
    }
   ],
   "source": [
    "def plot_statistics(change):\n",
    "    country = country_dropdown.value\n",
    "    pollutant = pollutant_dropdown.value\n",
    "    \n",
    "    filtered_df = df_pollutant.merge(df_station, on='station_code')\n",
    "    filtered_df = filtered_df[(filtered_df['network_countrycode'] == country) & (filtered_df['pollutant'] == pollutant)]\n",
    "    \n",
    "    mean_value = filtered_df['value_numeric'].mean()\n",
    "    max_value = filtered_df['value_numeric'].max()\n",
    "    min_value = filtered_df['value_numeric'].min()\n",
    "    \n",
    "    statistics_text.value = f\"Mean: {mean_value:.2f}\\nMax: {max_value}\\nMin: {min_value}\"\n",
    "    \n",
    "    # Create a bar plot of the statistics\n",
    "    stats = [mean_value, max_value, min_value]\n",
    "    labels = ['Mean', 'Max', 'Min']\n",
    "    \n",
    "    plt.figure(figsize=(8, 6))\n",
    "    plt.bar(labels, stats)\n",
    "    plt.xlabel('Statistic')\n",
    "    plt.ylabel('Value')\n",
    "    plt.title(f'Statistics for {pollutant} in {country}')\n",
    "    plt.show()\n",
    "\n",
    "# Event listener for dropdown selection\n",
    "pollutant_dropdown.observe(plot_statistics, 'value')\n",
    "\n",
    "# Display widgets\n",
    "display(country_dropdown)\n",
    "display(pollutant_dropdown)\n",
    "display(statistics_text)"
   ]
  },
  {
   "cell_type": "code",
   "execution_count": null,
   "metadata": {},
   "outputs": [],
   "source": [
    "#NEW PLOT --> NOT SURE THAT PLOTS ARE GOOD \n",
    "\n",
    "\n",
    "import ipywidgets as widgets\n",
    "import pandas as pd\n",
    "from IPython.display import display\n",
    "\n",
    "def select_pollutant(df_pollutant):\n",
    "    pollutants = df_pollutant['pollutant'].unique()\n",
    "    dropdown_pollutant = widgets.Dropdown(\n",
    "        options=pollutants,\n",
    "        description='Select pollutant:',\n",
    "        layout=widgets.Layout(width='300px')\n",
    "    )\n",
    "    display(dropdown_pollutant)\n",
    "    return dropdown_pollutant\n",
    "\n",
    "def select_date(df_pollutant):\n",
    "    df_pollutant['value_datetime_begin'] = pd.to_datetime(df_pollutant['value_datetime_begin'])\n",
    "    dates = df_pollutant['value_datetime_begin'].dt.date.unique()\n",
    "    dropdown_date = widgets.Dropdown(\n",
    "        options=dates,\n",
    "        description='Select date:',\n",
    "        layout=widgets.Layout(width='300px')\n",
    "    )\n",
    "    display(dropdown_date)\n",
    "    return dropdown_date\n",
    "\n",
    "# Esempio di utilizzo\n",
    "selected_pollutant = select_pollutant(df_pollutant)\n",
    "selected_date = select_date(df_pollutant)\n",
    "\n",
    "print(\"Selected pollutant:\", selected_pollutant.value)\n",
    "print(\"Selected date:\", selected_date.value)\n"
   ]
  },
  {
   "cell_type": "code",
   "execution_count": null,
   "metadata": {},
   "outputs": [],
   "source": [
    "import pandas as pd\n",
    "from bokeh.plotting import figure, show\n",
    "from bokeh.models import ColumnDataSource\n",
    "from bokeh.palettes import Category10\n",
    "from bokeh.io import output_notebook\n",
    "import ipywidgets as widgets\n",
    "from IPython.display import display\n",
    "\n",
    "\n",
    "# Funzione per creare il grafico Bokeh\n",
    "def create_bokeh_plot(df_pollutant, station, selected_pollutant, selected_date):\n",
    "    df_selected = df_pollutant[(df_pollutant['pollutant'] == selected_pollutant) &\n",
    "                               (df_pollutant['value_datetime_begin'].dt.date == selected_date)]\n",
    "    \n",
    "    # Merge the station and df_pollutant DataFrames on station_code\n",
    "    df_country = pd.merge(station, df_selected, on='station_code')\n",
    "    \n",
    "    countries = df_country['network_countrycode'].unique()\n",
    "    colors = Category10[10][:len(countries)]\n",
    "\n",
    "    p = figure(x_axis_type='datetime', title=f\"Pollutant: {selected_pollutant} - Date: {selected_date}\",\n",
    "               width=800, height=400)\n",
    "\n",
    "    for country, color in zip(countries, colors):\n",
    "        df_filtered = df_country[df_country['network_countrycode'] == country]\n",
    "        df_filtered = df_filtered.sort_values('value_datetime_begin')  # Sort by 'value_datetime_begin'\n",
    "        source = ColumnDataSource(df_filtered)\n",
    "        p.line(x='value_datetime_begin', y='value_numeric', source=source, line_color=color,\n",
    "               legend_label=country)\n",
    "\n",
    "    p.legend.location = \"top_left\"\n",
    "    p.legend.click_policy = \"hide\"\n",
    "\n",
    "    output_notebook()\n",
    "    show(p)\n",
    "\n",
    "\n",
    "create_bokeh_plot(df_pollutant, df_station, selected_pollutant.value, selected_date.value)\n",
    "\n"
   ]
  },
  {
   "attachments": {},
   "cell_type": "markdown",
   "metadata": {},
   "source": [
    "table_name = 'se4g_dashboard'\n",
    "\n",
    "conn = connect_right_now()\n",
    "cursor = conn.cursor()\n",
    "\n",
    "# Generate the SQL statement to select data from the source table\n",
    "select_data_query = f\"SELECT * FROM {table_name};\"\n",
    "\n",
    "# Execute the SELECT command\n",
    "cursor.execute(select_data_query)\n",
    "\n",
    "columns = [desc[0] for desc in cursor.description]\n",
    "\n",
    "# Fetch all the rows\n",
    "rows = cursor.fetchall()\n",
    "\n",
    "cursor.close()\n",
    "conn.close()\n",
    "\n",
    "# Create a pandas DataFrame from the fetched rows\n",
    "df = pd.DataFrame(rows, columns=columns)\n",
    "\n",
    "unique_month_day = df['month_day'].unique()\n",
    "month_day_dict = {day: index+1 for index, day in enumerate(unique_month_day)}\n",
    "\n",
    "df['time_series'] = df['month_day'].map(month_day_dict)\n",
    "df = df[df['country'] != 'Bosnia and Herzegovina']\n",
    "\n",
    "df['month_day_date'] = '2023' + df['month_day'].astype(str)\n",
    "df['month_day_date'] = pd.to_datetime(df['month_day_date'], format='%Y%m%d')\n"
   ]
  },
  {
   "cell_type": "code",
   "execution_count": null,
   "metadata": {},
   "outputs": [],
   "source": [
    "print(df.head())"
   ]
  },
  {
   "cell_type": "code",
   "execution_count": null,
   "metadata": {},
   "outputs": [],
   "source": [
    "print(df['month_day'].unique())"
   ]
  },
  {
   "cell_type": "code",
   "execution_count": null,
   "metadata": {},
   "outputs": [],
   "source": [
    "# Find duplicate rows based on 'pollutant', 'country', and 'month_day' columns\n",
    "duplicate_rows = df[df.duplicated(subset=['pollutant', 'country', 'month_day'], keep=False)]\n",
    "\n",
    "# Group duplicate rows by 'pollutant' and 'country' and print them\n",
    "for (pollutant, country), group in duplicate_rows.groupby(['pollutant', 'country']):\n",
    "    print(f\"Duplicate rows for pollutant '{pollutant}' and country '{country}':\")\n",
    "    print(group)\n",
    "    print()"
   ]
  },
  {
   "cell_type": "code",
   "execution_count": null,
   "metadata": {},
   "outputs": [],
   "source": [
    "available_indicators = df['pollutant'].unique()\n",
    "\n",
    "external_stylesheets = ['https://codepen.io/chriddyp/pen/bWLwgP.css']\n",
    " \n",
    "app = JupyterDash(__name__, external_stylesheets=external_stylesheets)\n",
    "\n",
    "# Create server variable with Flask server object for use with gunicorn\n",
    "server = app.server\n",
    "\n",
    "app.layout = html.Div([\n",
    "    html.Div([\n",
    "\n",
    "        html.Div([\n",
    "            dcc.Dropdown(\n",
    "                id='crossfilter-xaxis-column',\n",
    "                options=[{'label': i, 'value': i} for i in available_indicators],\n",
    "                value='SO2'\n",
    "            ),\n",
    "            dcc.RadioItems(\n",
    "                id='crossfilter-xaxis-type',\n",
    "                options=[{'label': i, 'value': i} for i in ['Linear', 'Log']],\n",
    "                value='Linear',\n",
    "                labelStyle={'display': 'inline-block'}\n",
    "            )\n",
    "        ],\n",
    "        style={'width': '49%', 'display': 'inline-block'}),\n",
    "\n",
    "        html.Div([\n",
    "            dcc.Dropdown(\n",
    "                id='crossfilter-yaxis-column',\n",
    "                options=[{'label': i, 'value': i} for i in available_indicators],\n",
    "                value='CO'\n",
    "            ),\n",
    "            dcc.RadioItems(\n",
    "                id='crossfilter-yaxis-type',\n",
    "                options=[{'label': i, 'value': i} for i in ['Linear', 'Log']],\n",
    "                value='Linear',\n",
    "                labelStyle={'display': 'inline-block'}\n",
    "            )\n",
    "        ], style={'width': '49%', 'float': 'right', 'display': 'inline-block'})\n",
    "    ], style={\n",
    "        'borderBottom': 'thin lightgrey solid',\n",
    "        'backgroundColor': 'rgb(250, 250, 250)',\n",
    "        'padding': '10px 5px'\n",
    "    }),\n",
    "\n",
    "    html.Div([\n",
    "        dcc.Graph(\n",
    "            id='crossfilter-indicator-scatter',\n",
    "            hoverData={'points': [{'customdata': 'Andorra'}]}\n",
    "        )\n",
    "    ], style={'width': '49%', 'display': 'inline-block', 'padding': '0 20'}),\n",
    "    html.Div([\n",
    "        dcc.Graph(id='x-time-series'),\n",
    "        dcc.Graph(id='y-time-series'),\n",
    "    ], style={'display': 'inline-block', 'width': '49%'}),\n",
    "\n",
    "    html.Div(dcc.Slider(\n",
    "        id='crossfilter-year--slider',\n",
    "        min=df['time_series'].min(),\n",
    "        max=df['time_series'].max(),\n",
    "        value=df['time_series'].max(),\n",
    "        marks={str(time): str(time) for time in df['month_day_date'].unique()},\n",
    "        step=None\n",
    "    ), style={'width': '49%', 'padding': '0px 20px 20px 20px'})\n",
    "])\n",
    "\n",
    "\n",
    "@app.callback(\n",
    "    dash.dependencies.Output('crossfilter-indicator-scatter', 'figure'),\n",
    "    [dash.dependencies.Input('crossfilter-xaxis-column', 'value'),\n",
    "     dash.dependencies.Input('crossfilter-yaxis-column', 'value'),\n",
    "     dash.dependencies.Input('crossfilter-xaxis-type', 'value'),\n",
    "     dash.dependencies.Input('crossfilter-yaxis-type', 'value'),\n",
    "     dash.dependencies.Input('crossfilter-year--slider', 'value')])\n",
    "def update_graph(xaxis_column_name, yaxis_column_name,\n",
    "                 xaxis_type, yaxis_type,\n",
    "                 time_value):\n",
    "    dff = df[df['time_series'] == time_value]\n",
    "\n",
    "    return {\n",
    "        'data': [dict(\n",
    "            x=dff[dff['pollutant'] == xaxis_column_name]['value_numeric_mean'],\n",
    "            y=dff[dff['pollutant'] == yaxis_column_name]['value_numeric_mean'],\n",
    "            text=dff[dff['pollutant'] == yaxis_column_name]['country'],\n",
    "            customdata=dff[dff['pollutant'] == yaxis_column_name]['country'],\n",
    "            mode='markers',\n",
    "            marker={\n",
    "                'size': 25,\n",
    "                'opacity': 0.7,\n",
    "                'color': 'orange',\n",
    "                'line': {'width': 2, 'color': 'purple'}\n",
    "            }\n",
    "        )],\n",
    "        'layout': dict(\n",
    "            xaxis={\n",
    "                'title': xaxis_column_name,\n",
    "                'type': 'linear' if xaxis_type == 'Linear' else 'log'\n",
    "            },\n",
    "            yaxis={\n",
    "                'title': yaxis_column_name,\n",
    "                'type': 'linear' if yaxis_type == 'Linear' else 'log'\n",
    "            },\n",
    "            margin={'l': 40, 'b': 30, 't': 10, 'r': 0},\n",
    "            height=450,\n",
    "            hovermode='closest'\n",
    "        )\n",
    "    }\n",
    "\n",
    "\n",
    "def create_time_series(dff, axis_type, title):\n",
    "    return {\n",
    "        'data': [dict(\n",
    "            x=dff['time_series'],\n",
    "            y=dff['value_numeric_mean'],\n",
    "            mode='lines+markers'\n",
    "        )],\n",
    "        'layout': {\n",
    "            'height': 225,\n",
    "            'margin': {'l': 20, 'b': 30, 'r': 10, 't': 10},\n",
    "            'annotations': [{\n",
    "                'x': 0, 'y': 0.85, 'xanchor': 'left', 'yanchor': 'bottom',\n",
    "                'xref': 'paper', 'yref': 'paper', 'showarrow': False,\n",
    "                'align': 'left', 'bgcolor': 'rgba(255, 255, 255, 0.5)',\n",
    "                'text': title\n",
    "            }],\n",
    "            'yaxis': {'type': 'linear' if axis_type == 'Linear' else 'log'},\n",
    "            'xaxis': {'showgrid': False}\n",
    "        }\n",
    "    }\n",
    "\n",
    "\n",
    "@app.callback(\n",
    "    dash.dependencies.Output('x-time-series', 'figure'),\n",
    "    [dash.dependencies.Input('crossfilter-indicator-scatter', 'hoverData'),\n",
    "     dash.dependencies.Input('crossfilter-xaxis-column', 'value'),\n",
    "     dash.dependencies.Input('crossfilter-xaxis-type', 'value')])\n",
    "def update_y_timeseries(hoverData, xaxis_column_name, axis_type):\n",
    "    country_name = hoverData['points'][0]['customdata']\n",
    "    dff = df[df['country'] == country_name]\n",
    "    dff = dff[dff['pollutant'] == xaxis_column_name]\n",
    "    title = '<b>{}</b><br>{}'.format(country_name, xaxis_column_name)\n",
    "    return create_time_series(dff, axis_type, title)\n",
    "\n",
    " \n",
    "@app.callback(\n",
    "    dash.dependencies.Output('y-time-series', 'figure'),\n",
    "    [dash.dependencies.Input('crossfilter-indicator-scatter', 'hoverData'),\n",
    "     dash.dependencies.Input('crossfilter-yaxis-column', 'value'),\n",
    "     dash.dependencies.Input('crossfilter-yaxis-type', 'value')])\n",
    "def update_x_timeseries(hoverData, yaxis_column_name, axis_type):\n",
    "    dff = df[df['country'] == hoverData['points'][0]['customdata']]\n",
    "    dff = dff[dff['pollutant'] == yaxis_column_name]\n",
    "    return create_time_series(dff, axis_type, yaxis_column_name)"
   ]
  },
  {
   "attachments": {},
   "cell_type": "markdown",
   "metadata": {},
   "source": [
    "Serve the app using `run_server`.  Unlike the standard `Dash.run_server` method, the `JupyterDash.run_server` method doesn't block execution of the notebook. It serves the app in a background thread, making it possible to run other notebook calculations while the app is running.\n",
    "\n",
    "This makes it possible to iteratively update the app without rerunning the potentially expensive data processing steps."
   ]
  },
  {
   "cell_type": "code",
   "execution_count": null,
   "metadata": {},
   "outputs": [
    {
     "name": "stdout",
     "output_type": "stream",
     "text": [
      "Dash is running on http://127.0.0.1:8050/\n",
      "\n",
      "Dash app running on http://127.0.0.1:8050/\n"
     ]
    }
   ],
   "source": [
    "app.run_server()"
   ]
  },
  {
   "attachments": {},
   "cell_type": "markdown",
   "metadata": {},
   "source": [
    "By default, `run_server` displays a URL that you can click on to open the app in a browser tab. The `mode` argument to `run_server` can be used to change this behavior.  Setting `mode=\"inline\"` will display the app directly in the notebook output cell."
   ]
  },
  {
   "cell_type": "code",
   "execution_count": 5,
   "metadata": {},
   "outputs": [
    {
     "name": "stdout",
     "output_type": "stream",
     "text": [
      "Dash is running on http://127.0.0.1:8050/\n",
      "\n"
     ]
    },
    {
     "data": {
      "text/html": [
       "\n",
       "        <iframe\n",
       "            width=\"100%\"\n",
       "            height=\"650\"\n",
       "            src=\"http://127.0.0.1:8050/\"\n",
       "            frameborder=\"0\"\n",
       "            allowfullscreen\n",
       "            \n",
       "        ></iframe>\n",
       "        "
      ],
      "text/plain": [
       "<IPython.lib.display.IFrame at 0x138022dbc50>"
      ]
     },
     "metadata": {},
     "output_type": "display_data"
    }
   ],
   "source": [
    "app.run_server()\n",
    "app.run_server(mode=\"inline\")"
   ]
  },
  {
   "attachments": {},
   "cell_type": "markdown",
   "metadata": {},
   "source": [
    "When running in JupyterLab, with the `jupyterlab-dash` extension, setting `mode=\"jupyterlab\"` will open the app in a tab in JupyterLab."
   ]
  },
  {
   "cell_type": "code",
   "execution_count": 7,
   "metadata": {
    "tags": []
   },
   "outputs": [
    {
     "name": "stdout",
     "output_type": "stream",
     "text": [
      "Dash is running on http://127.0.0.1:8050/\n",
      "\n"
     ]
    }
   ],
   "source": [
    "app.run_server(mode=\"jupyterlab\")"
   ]
  },
  {
   "attachments": {},
   "cell_type": "markdown",
   "metadata": {
    "tags": []
   },
   "source": [
    "To run a notebook from another notebook you can use the magic function:\n",
    "    \n",
    "```\n",
    "%run .../other_notebook.ipynb\n",
    "```"
   ]
  },
  {
   "attachments": {},
   "cell_type": "markdown",
   "metadata": {},
   "source": [
    "<img src=\"img/se4g_pic2.png\">"
   ]
  }
 ],
 "metadata": {
  "jupytext": {
   "formats": "ipynb,py:percent"
  },
  "kernelspec": {
   "display_name": "Python 3 (ipykernel)",
   "language": "python",
   "name": "python3"
  },
  "language_info": {
   "codemirror_mode": {
    "name": "ipython",
    "version": 3
   },
   "file_extension": ".py",
   "mimetype": "text/x-python",
   "name": "python",
   "nbconvert_exporter": "python",
   "pygments_lexer": "ipython3",
   "version": "3.11.0"
  }
 },
 "nbformat": 4,
 "nbformat_minor": 4
}
