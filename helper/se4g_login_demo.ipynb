{
 "cells": [
  {
   "cell_type": "code",
   "execution_count": 1,
   "metadata": {},
   "outputs": [
    {
     "name": "stdout",
     "output_type": "stream",
     "text": [
      "Current directory:  c:\\Users\\Utente\\Documents\\GitHub\\SE4GEO-Lab\\helper\n",
      "Current working directory: c:\\Users\\Utente\\Documents\\GitHub\\SE4GEO-Lab\n"
     ]
    }
   ],
   "source": [
    "# import packages\n",
    "import os\n",
    "import requests\n",
    "import pandas as pd\n",
    "from datetime import datetime\n",
    "import ipywidgets as widgets\n",
    "from IPython.display import display\n",
    "from sqlalchemy import create_mock_engine\n",
    "from se4g_dir import set_the_working_directory\n",
    "set_the_working_directory()"
   ]
  },
  {
   "cell_type": "code",
   "execution_count": 2,
   "metadata": {},
   "outputs": [],
   "source": [
    "from se4g_helper import *"
   ]
  },
  {
   "cell_type": "code",
   "execution_count": null,
   "metadata": {},
   "outputs": [],
   "source": [
    "# List of functions in se4g_helper\n",
    "import se4g_helper\n",
    "\n",
    "function_list = dir(se4g_helper)\n",
    "function_list = [name for name in dir(se4g_helper) if callable(getattr(se4g_helper, name))]\n",
    "\n",
    "\n",
    "print(\"List of functions in se4g_helper module:\")\n",
    "for function_name in function_list:\n",
    "    print(function_name)"
   ]
  },
  {
   "cell_type": "code",
   "execution_count": null,
   "metadata": {},
   "outputs": [],
   "source": [
    "# Create admins csv\n",
    "admins = {'admin': 'admin', 'lorenzo': 'lore', 'angelica': 'ange', 'emma': 'em', 'virginia': 'virgi'}\n",
    "\n",
    "data = {'Username': list(admins.keys()), 'Password': list(admins.values())}\n",
    "df = pd.DataFrame(data)\n",
    "\n",
    "folder = 'data'\n",
    "filename = 'admins.csv'\n",
    "path_file = os.path.join(folder,filename)\n",
    "df.to_csv(path_file, index=False)\n",
    "\n",
    "print(f\"Data saved to {path_file} successfully.\")"
   ]
  },
  {
   "cell_type": "code",
   "execution_count": 3,
   "metadata": {},
   "outputs": [
    {
     "data": {
      "application/vnd.jupyter.widget-view+json": {
       "model_id": "0fac0ec273f5408db2767e2e7f886bb5",
       "version_major": 2,
       "version_minor": 0
      },
      "text/plain": [
       "Text(value='', description='Username:', placeholder='Type postgres')"
      ]
     },
     "metadata": {},
     "output_type": "display_data"
    },
    {
     "data": {
      "application/vnd.jupyter.widget-view+json": {
       "model_id": "4cb4c67d70c24a7e836aa24b991fd8be",
       "version_major": 2,
       "version_minor": 0
      },
      "text/plain": [
       "Password(description='Password:', placeholder='Enter password')"
      ]
     },
     "metadata": {},
     "output_type": "display_data"
    },
    {
     "data": {
      "application/vnd.jupyter.widget-view+json": {
       "model_id": "1b279fa647a449d4a48e09d2d3580796",
       "version_major": 2,
       "version_minor": 0
      },
      "text/plain": [
       "Button(description='Login', style=ButtonStyle())"
      ]
     },
     "metadata": {},
     "output_type": "display_data"
    },
    {
     "ename": "OperationalError",
     "evalue": "connection to server at \"192.168.30.19\", port 5432 failed: Connection timed out (0x0000274C/10060)\n\tIs the server running on that host and accepting TCP/IP connections?\n",
     "output_type": "error",
     "traceback": [
      "\u001b[1;31m---------------------------------------------------------------------------\u001b[0m",
      "\u001b[1;31mOperationalError\u001b[0m                          Traceback (most recent call last)",
      "File \u001b[1;32mc:\\Users\\Utente\\Documents\\GitHub\\SE4GEO-Lab\\se4g_helper.py:581\u001b[0m, in \u001b[0;36mlogin_to_DB.<locals>.handle_login_button_click\u001b[1;34m(button)\u001b[0m\n\u001b[0;32m    576\u001b[0m \u001b[39m\u001b[39m\u001b[39m'''with open('code/'+file, 'r') as f:\u001b[39;00m\n\u001b[0;32m    577\u001b[0m \u001b[39m    engine = create_engine('postgresql://'+db_username+':'+f.read()+'@'+ip+':'+port+'/'+db) \u001b[39;00m\n\u001b[0;32m    578\u001b[0m \u001b[39mcon = engine.connect()'''\u001b[39;00m\n\u001b[0;32m    580\u001b[0m \u001b[39mwith\u001b[39;00m \u001b[39mopen\u001b[39m(\u001b[39m'\u001b[39m\u001b[39mcode/\u001b[39m\u001b[39m'\u001b[39m\u001b[39m+\u001b[39mfile, \u001b[39m'\u001b[39m\u001b[39mr\u001b[39m\u001b[39m'\u001b[39m) \u001b[39mas\u001b[39;00m f:\n\u001b[1;32m--> 581\u001b[0m     conn \u001b[39m=\u001b[39m psycopg2\u001b[39m.\u001b[39;49mconnect(\n\u001b[0;32m    582\u001b[0m         host \u001b[39m=\u001b[39;49m ip,\n\u001b[0;32m    583\u001b[0m         database \u001b[39m=\u001b[39;49m db,\n\u001b[0;32m    584\u001b[0m         user \u001b[39m=\u001b[39;49m db_username,\n\u001b[0;32m    585\u001b[0m         password \u001b[39m=\u001b[39;49m f\u001b[39m.\u001b[39;49mread()\n\u001b[0;32m    586\u001b[0m     )\n\u001b[0;32m    588\u001b[0m \u001b[39m# Perform any necessary database operations\u001b[39;00m\n\u001b[0;32m    589\u001b[0m \u001b[39m# ...\u001b[39;00m\n\u001b[0;32m    590\u001b[0m \u001b[39m# Return the database connection or perform any other actions\u001b[39;00m\n\u001b[0;32m    591\u001b[0m \u001b[39mprint\u001b[39m(\u001b[39m\"\u001b[39m\u001b[39mConnected with\u001b[39m\u001b[39m\"\u001b[39m,ip)\n",
      "File \u001b[1;32mc:\\Users\\Utente\\mambaforge\\envs\\se4g\\Lib\\site-packages\\psycopg2\\__init__.py:122\u001b[0m, in \u001b[0;36mconnect\u001b[1;34m(dsn, connection_factory, cursor_factory, **kwargs)\u001b[0m\n\u001b[0;32m    119\u001b[0m     kwasync[\u001b[39m'\u001b[39m\u001b[39masync_\u001b[39m\u001b[39m'\u001b[39m] \u001b[39m=\u001b[39m kwargs\u001b[39m.\u001b[39mpop(\u001b[39m'\u001b[39m\u001b[39masync_\u001b[39m\u001b[39m'\u001b[39m)\n\u001b[0;32m    121\u001b[0m dsn \u001b[39m=\u001b[39m _ext\u001b[39m.\u001b[39mmake_dsn(dsn, \u001b[39m*\u001b[39m\u001b[39m*\u001b[39mkwargs)\n\u001b[1;32m--> 122\u001b[0m conn \u001b[39m=\u001b[39m _connect(dsn, connection_factory\u001b[39m=\u001b[39;49mconnection_factory, \u001b[39m*\u001b[39;49m\u001b[39m*\u001b[39;49mkwasync)\n\u001b[0;32m    123\u001b[0m \u001b[39mif\u001b[39;00m cursor_factory \u001b[39mis\u001b[39;00m \u001b[39mnot\u001b[39;00m \u001b[39mNone\u001b[39;00m:\n\u001b[0;32m    124\u001b[0m     conn\u001b[39m.\u001b[39mcursor_factory \u001b[39m=\u001b[39m cursor_factory\n",
      "\u001b[1;31mOperationalError\u001b[0m: connection to server at \"192.168.30.19\", port 5432 failed: Connection timed out (0x0000274C/10060)\n\tIs the server running on that host and accepting TCP/IP connections?\n"
     ]
    },
    {
     "ename": "OperationalError",
     "evalue": "connection to server at \"192.168.30.19\", port 5432 failed: Connection timed out (0x0000274C/10060)\n\tIs the server running on that host and accepting TCP/IP connections?\n",
     "output_type": "error",
     "traceback": [
      "\u001b[1;31m---------------------------------------------------------------------------\u001b[0m",
      "\u001b[1;31mOperationalError\u001b[0m                          Traceback (most recent call last)",
      "File \u001b[1;32mc:\\Users\\Utente\\Documents\\GitHub\\SE4GEO-Lab\\se4g_helper.py:581\u001b[0m, in \u001b[0;36mlogin_to_DB.<locals>.handle_login_button_click\u001b[1;34m(button)\u001b[0m\n\u001b[0;32m    576\u001b[0m \u001b[39m\u001b[39m\u001b[39m'''with open('code/'+file, 'r') as f:\u001b[39;00m\n\u001b[0;32m    577\u001b[0m \u001b[39m    engine = create_engine('postgresql://'+db_username+':'+f.read()+'@'+ip+':'+port+'/'+db) \u001b[39;00m\n\u001b[0;32m    578\u001b[0m \u001b[39mcon = engine.connect()'''\u001b[39;00m\n\u001b[0;32m    580\u001b[0m \u001b[39mwith\u001b[39;00m \u001b[39mopen\u001b[39m(\u001b[39m'\u001b[39m\u001b[39mcode/\u001b[39m\u001b[39m'\u001b[39m\u001b[39m+\u001b[39mfile, \u001b[39m'\u001b[39m\u001b[39mr\u001b[39m\u001b[39m'\u001b[39m) \u001b[39mas\u001b[39;00m f:\n\u001b[1;32m--> 581\u001b[0m     conn \u001b[39m=\u001b[39m psycopg2\u001b[39m.\u001b[39;49mconnect(\n\u001b[0;32m    582\u001b[0m         host \u001b[39m=\u001b[39;49m ip,\n\u001b[0;32m    583\u001b[0m         database \u001b[39m=\u001b[39;49m db,\n\u001b[0;32m    584\u001b[0m         user \u001b[39m=\u001b[39;49m db_username,\n\u001b[0;32m    585\u001b[0m         password \u001b[39m=\u001b[39;49m f\u001b[39m.\u001b[39;49mread()\n\u001b[0;32m    586\u001b[0m     )\n\u001b[0;32m    588\u001b[0m \u001b[39m# Perform any necessary database operations\u001b[39;00m\n\u001b[0;32m    589\u001b[0m \u001b[39m# ...\u001b[39;00m\n\u001b[0;32m    590\u001b[0m \u001b[39m# Return the database connection or perform any other actions\u001b[39;00m\n\u001b[0;32m    591\u001b[0m \u001b[39mprint\u001b[39m(\u001b[39m\"\u001b[39m\u001b[39mConnected with\u001b[39m\u001b[39m\"\u001b[39m,ip)\n",
      "File \u001b[1;32mc:\\Users\\Utente\\mambaforge\\envs\\se4g\\Lib\\site-packages\\psycopg2\\__init__.py:122\u001b[0m, in \u001b[0;36mconnect\u001b[1;34m(dsn, connection_factory, cursor_factory, **kwargs)\u001b[0m\n\u001b[0;32m    119\u001b[0m     kwasync[\u001b[39m'\u001b[39m\u001b[39masync_\u001b[39m\u001b[39m'\u001b[39m] \u001b[39m=\u001b[39m kwargs\u001b[39m.\u001b[39mpop(\u001b[39m'\u001b[39m\u001b[39masync_\u001b[39m\u001b[39m'\u001b[39m)\n\u001b[0;32m    121\u001b[0m dsn \u001b[39m=\u001b[39m _ext\u001b[39m.\u001b[39mmake_dsn(dsn, \u001b[39m*\u001b[39m\u001b[39m*\u001b[39mkwargs)\n\u001b[1;32m--> 122\u001b[0m conn \u001b[39m=\u001b[39m _connect(dsn, connection_factory\u001b[39m=\u001b[39;49mconnection_factory, \u001b[39m*\u001b[39;49m\u001b[39m*\u001b[39;49mkwasync)\n\u001b[0;32m    123\u001b[0m \u001b[39mif\u001b[39;00m cursor_factory \u001b[39mis\u001b[39;00m \u001b[39mnot\u001b[39;00m \u001b[39mNone\u001b[39;00m:\n\u001b[0;32m    124\u001b[0m     conn\u001b[39m.\u001b[39mcursor_factory \u001b[39m=\u001b[39m cursor_factory\n",
      "\u001b[1;31mOperationalError\u001b[0m: connection to server at \"192.168.30.19\", port 5432 failed: Connection timed out (0x0000274C/10060)\n\tIs the server running on that host and accepting TCP/IP connections?\n"
     ]
    },
    {
     "ename": "OperationalError",
     "evalue": "connection to server at \"192.168.30.19\", port 5432 failed: Connection timed out (0x0000274C/10060)\n\tIs the server running on that host and accepting TCP/IP connections?\n",
     "output_type": "error",
     "traceback": [
      "\u001b[1;31m---------------------------------------------------------------------------\u001b[0m",
      "\u001b[1;31mOperationalError\u001b[0m                          Traceback (most recent call last)",
      "File \u001b[1;32mc:\\Users\\Utente\\Documents\\GitHub\\SE4GEO-Lab\\se4g_helper.py:581\u001b[0m, in \u001b[0;36mlogin_to_DB.<locals>.handle_login_button_click\u001b[1;34m(button)\u001b[0m\n\u001b[0;32m    576\u001b[0m \u001b[39m\u001b[39m\u001b[39m'''with open('code/'+file, 'r') as f:\u001b[39;00m\n\u001b[0;32m    577\u001b[0m \u001b[39m    engine = create_engine('postgresql://'+db_username+':'+f.read()+'@'+ip+':'+port+'/'+db) \u001b[39;00m\n\u001b[0;32m    578\u001b[0m \u001b[39mcon = engine.connect()'''\u001b[39;00m\n\u001b[0;32m    580\u001b[0m \u001b[39mwith\u001b[39;00m \u001b[39mopen\u001b[39m(\u001b[39m'\u001b[39m\u001b[39mcode/\u001b[39m\u001b[39m'\u001b[39m\u001b[39m+\u001b[39mfile, \u001b[39m'\u001b[39m\u001b[39mr\u001b[39m\u001b[39m'\u001b[39m) \u001b[39mas\u001b[39;00m f:\n\u001b[1;32m--> 581\u001b[0m     conn \u001b[39m=\u001b[39m psycopg2\u001b[39m.\u001b[39;49mconnect(\n\u001b[0;32m    582\u001b[0m         host \u001b[39m=\u001b[39;49m ip,\n\u001b[0;32m    583\u001b[0m         database \u001b[39m=\u001b[39;49m db,\n\u001b[0;32m    584\u001b[0m         user \u001b[39m=\u001b[39;49m db_username,\n\u001b[0;32m    585\u001b[0m         password \u001b[39m=\u001b[39;49m f\u001b[39m.\u001b[39;49mread()\n\u001b[0;32m    586\u001b[0m     )\n\u001b[0;32m    588\u001b[0m \u001b[39m# Perform any necessary database operations\u001b[39;00m\n\u001b[0;32m    589\u001b[0m \u001b[39m# ...\u001b[39;00m\n\u001b[0;32m    590\u001b[0m \u001b[39m# Return the database connection or perform any other actions\u001b[39;00m\n\u001b[0;32m    591\u001b[0m \u001b[39mprint\u001b[39m(\u001b[39m\"\u001b[39m\u001b[39mConnected with\u001b[39m\u001b[39m\"\u001b[39m,ip)\n",
      "File \u001b[1;32mc:\\Users\\Utente\\mambaforge\\envs\\se4g\\Lib\\site-packages\\psycopg2\\__init__.py:122\u001b[0m, in \u001b[0;36mconnect\u001b[1;34m(dsn, connection_factory, cursor_factory, **kwargs)\u001b[0m\n\u001b[0;32m    119\u001b[0m     kwasync[\u001b[39m'\u001b[39m\u001b[39masync_\u001b[39m\u001b[39m'\u001b[39m] \u001b[39m=\u001b[39m kwargs\u001b[39m.\u001b[39mpop(\u001b[39m'\u001b[39m\u001b[39masync_\u001b[39m\u001b[39m'\u001b[39m)\n\u001b[0;32m    121\u001b[0m dsn \u001b[39m=\u001b[39m _ext\u001b[39m.\u001b[39mmake_dsn(dsn, \u001b[39m*\u001b[39m\u001b[39m*\u001b[39mkwargs)\n\u001b[1;32m--> 122\u001b[0m conn \u001b[39m=\u001b[39m _connect(dsn, connection_factory\u001b[39m=\u001b[39;49mconnection_factory, \u001b[39m*\u001b[39;49m\u001b[39m*\u001b[39;49mkwasync)\n\u001b[0;32m    123\u001b[0m \u001b[39mif\u001b[39;00m cursor_factory \u001b[39mis\u001b[39;00m \u001b[39mnot\u001b[39;00m \u001b[39mNone\u001b[39;00m:\n\u001b[0;32m    124\u001b[0m     conn\u001b[39m.\u001b[39mcursor_factory \u001b[39m=\u001b[39m cursor_factory\n",
      "\u001b[1;31mOperationalError\u001b[0m: connection to server at \"192.168.30.19\", port 5432 failed: Connection timed out (0x0000274C/10060)\n\tIs the server running on that host and accepting TCP/IP connections?\n"
     ]
    },
    {
     "ename": "OperationalError",
     "evalue": "connection to server at \"192.168.30.19\", port 5432 failed: Connection timed out (0x0000274C/10060)\n\tIs the server running on that host and accepting TCP/IP connections?\n",
     "output_type": "error",
     "traceback": [
      "\u001b[1;31m---------------------------------------------------------------------------\u001b[0m",
      "\u001b[1;31mOperationalError\u001b[0m                          Traceback (most recent call last)",
      "File \u001b[1;32mc:\\Users\\Utente\\Documents\\GitHub\\SE4GEO-Lab\\se4g_helper.py:581\u001b[0m, in \u001b[0;36mlogin_to_DB.<locals>.handle_login_button_click\u001b[1;34m(button)\u001b[0m\n\u001b[0;32m    576\u001b[0m \u001b[39m\u001b[39m\u001b[39m'''with open('code/'+file, 'r') as f:\u001b[39;00m\n\u001b[0;32m    577\u001b[0m \u001b[39m    engine = create_engine('postgresql://'+db_username+':'+f.read()+'@'+ip+':'+port+'/'+db) \u001b[39;00m\n\u001b[0;32m    578\u001b[0m \u001b[39mcon = engine.connect()'''\u001b[39;00m\n\u001b[0;32m    580\u001b[0m \u001b[39mwith\u001b[39;00m \u001b[39mopen\u001b[39m(\u001b[39m'\u001b[39m\u001b[39mcode/\u001b[39m\u001b[39m'\u001b[39m\u001b[39m+\u001b[39mfile, \u001b[39m'\u001b[39m\u001b[39mr\u001b[39m\u001b[39m'\u001b[39m) \u001b[39mas\u001b[39;00m f:\n\u001b[1;32m--> 581\u001b[0m     conn \u001b[39m=\u001b[39m psycopg2\u001b[39m.\u001b[39;49mconnect(\n\u001b[0;32m    582\u001b[0m         host \u001b[39m=\u001b[39;49m ip,\n\u001b[0;32m    583\u001b[0m         database \u001b[39m=\u001b[39;49m db,\n\u001b[0;32m    584\u001b[0m         user \u001b[39m=\u001b[39;49m db_username,\n\u001b[0;32m    585\u001b[0m         password \u001b[39m=\u001b[39;49m f\u001b[39m.\u001b[39;49mread()\n\u001b[0;32m    586\u001b[0m     )\n\u001b[0;32m    588\u001b[0m \u001b[39m# Perform any necessary database operations\u001b[39;00m\n\u001b[0;32m    589\u001b[0m \u001b[39m# ...\u001b[39;00m\n\u001b[0;32m    590\u001b[0m \u001b[39m# Return the database connection or perform any other actions\u001b[39;00m\n\u001b[0;32m    591\u001b[0m \u001b[39mprint\u001b[39m(\u001b[39m\"\u001b[39m\u001b[39mConnected with\u001b[39m\u001b[39m\"\u001b[39m,ip)\n",
      "File \u001b[1;32mc:\\Users\\Utente\\mambaforge\\envs\\se4g\\Lib\\site-packages\\psycopg2\\__init__.py:122\u001b[0m, in \u001b[0;36mconnect\u001b[1;34m(dsn, connection_factory, cursor_factory, **kwargs)\u001b[0m\n\u001b[0;32m    119\u001b[0m     kwasync[\u001b[39m'\u001b[39m\u001b[39masync_\u001b[39m\u001b[39m'\u001b[39m] \u001b[39m=\u001b[39m kwargs\u001b[39m.\u001b[39mpop(\u001b[39m'\u001b[39m\u001b[39masync_\u001b[39m\u001b[39m'\u001b[39m)\n\u001b[0;32m    121\u001b[0m dsn \u001b[39m=\u001b[39m _ext\u001b[39m.\u001b[39mmake_dsn(dsn, \u001b[39m*\u001b[39m\u001b[39m*\u001b[39mkwargs)\n\u001b[1;32m--> 122\u001b[0m conn \u001b[39m=\u001b[39m _connect(dsn, connection_factory\u001b[39m=\u001b[39;49mconnection_factory, \u001b[39m*\u001b[39;49m\u001b[39m*\u001b[39;49mkwasync)\n\u001b[0;32m    123\u001b[0m \u001b[39mif\u001b[39;00m cursor_factory \u001b[39mis\u001b[39;00m \u001b[39mnot\u001b[39;00m \u001b[39mNone\u001b[39;00m:\n\u001b[0;32m    124\u001b[0m     conn\u001b[39m.\u001b[39mcursor_factory \u001b[39m=\u001b[39m cursor_factory\n",
      "\u001b[1;31mOperationalError\u001b[0m: connection to server at \"192.168.30.19\", port 5432 failed: Connection timed out (0x0000274C/10060)\n\tIs the server running on that host and accepting TCP/IP connections?\n"
     ]
    },
    {
     "ename": "OperationalError",
     "evalue": "connection to server at \"192.168.30.19\", port 5432 failed: Connection timed out (0x0000274C/10060)\n\tIs the server running on that host and accepting TCP/IP connections?\n",
     "output_type": "error",
     "traceback": [
      "\u001b[1;31m---------------------------------------------------------------------------\u001b[0m",
      "\u001b[1;31mOperationalError\u001b[0m                          Traceback (most recent call last)",
      "File \u001b[1;32mc:\\Users\\Utente\\Documents\\GitHub\\SE4GEO-Lab\\se4g_helper.py:581\u001b[0m, in \u001b[0;36mlogin_to_DB.<locals>.handle_login_button_click\u001b[1;34m(button)\u001b[0m\n\u001b[0;32m    576\u001b[0m \u001b[39m\u001b[39m\u001b[39m'''with open('code/'+file, 'r') as f:\u001b[39;00m\n\u001b[0;32m    577\u001b[0m \u001b[39m    engine = create_engine('postgresql://'+db_username+':'+f.read()+'@'+ip+':'+port+'/'+db) \u001b[39;00m\n\u001b[0;32m    578\u001b[0m \u001b[39mcon = engine.connect()'''\u001b[39;00m\n\u001b[0;32m    580\u001b[0m \u001b[39mwith\u001b[39;00m \u001b[39mopen\u001b[39m(\u001b[39m'\u001b[39m\u001b[39mcode/\u001b[39m\u001b[39m'\u001b[39m\u001b[39m+\u001b[39mfile, \u001b[39m'\u001b[39m\u001b[39mr\u001b[39m\u001b[39m'\u001b[39m) \u001b[39mas\u001b[39;00m f:\n\u001b[1;32m--> 581\u001b[0m     conn \u001b[39m=\u001b[39m psycopg2\u001b[39m.\u001b[39;49mconnect(\n\u001b[0;32m    582\u001b[0m         host \u001b[39m=\u001b[39;49m ip,\n\u001b[0;32m    583\u001b[0m         database \u001b[39m=\u001b[39;49m db,\n\u001b[0;32m    584\u001b[0m         user \u001b[39m=\u001b[39;49m db_username,\n\u001b[0;32m    585\u001b[0m         password \u001b[39m=\u001b[39;49m f\u001b[39m.\u001b[39;49mread()\n\u001b[0;32m    586\u001b[0m     )\n\u001b[0;32m    588\u001b[0m \u001b[39m# Perform any necessary database operations\u001b[39;00m\n\u001b[0;32m    589\u001b[0m \u001b[39m# ...\u001b[39;00m\n\u001b[0;32m    590\u001b[0m \u001b[39m# Return the database connection or perform any other actions\u001b[39;00m\n\u001b[0;32m    591\u001b[0m \u001b[39mprint\u001b[39m(\u001b[39m\"\u001b[39m\u001b[39mConnected with\u001b[39m\u001b[39m\"\u001b[39m,ip)\n",
      "File \u001b[1;32mc:\\Users\\Utente\\mambaforge\\envs\\se4g\\Lib\\site-packages\\psycopg2\\__init__.py:122\u001b[0m, in \u001b[0;36mconnect\u001b[1;34m(dsn, connection_factory, cursor_factory, **kwargs)\u001b[0m\n\u001b[0;32m    119\u001b[0m     kwasync[\u001b[39m'\u001b[39m\u001b[39masync_\u001b[39m\u001b[39m'\u001b[39m] \u001b[39m=\u001b[39m kwargs\u001b[39m.\u001b[39mpop(\u001b[39m'\u001b[39m\u001b[39masync_\u001b[39m\u001b[39m'\u001b[39m)\n\u001b[0;32m    121\u001b[0m dsn \u001b[39m=\u001b[39m _ext\u001b[39m.\u001b[39mmake_dsn(dsn, \u001b[39m*\u001b[39m\u001b[39m*\u001b[39mkwargs)\n\u001b[1;32m--> 122\u001b[0m conn \u001b[39m=\u001b[39m _connect(dsn, connection_factory\u001b[39m=\u001b[39;49mconnection_factory, \u001b[39m*\u001b[39;49m\u001b[39m*\u001b[39;49mkwasync)\n\u001b[0;32m    123\u001b[0m \u001b[39mif\u001b[39;00m cursor_factory \u001b[39mis\u001b[39;00m \u001b[39mnot\u001b[39;00m \u001b[39mNone\u001b[39;00m:\n\u001b[0;32m    124\u001b[0m     conn\u001b[39m.\u001b[39mcursor_factory \u001b[39m=\u001b[39m cursor_factory\n",
      "\u001b[1;31mOperationalError\u001b[0m: connection to server at \"192.168.30.19\", port 5432 failed: Connection timed out (0x0000274C/10060)\n\tIs the server running on that host and accepting TCP/IP connections?\n"
     ]
    },
    {
     "ename": "OperationalError",
     "evalue": "connection to server at \"192.168.30.19\", port 5432 failed: Connection timed out (0x0000274C/10060)\n\tIs the server running on that host and accepting TCP/IP connections?\n",
     "output_type": "error",
     "traceback": [
      "\u001b[1;31m---------------------------------------------------------------------------\u001b[0m",
      "\u001b[1;31mOperationalError\u001b[0m                          Traceback (most recent call last)",
      "File \u001b[1;32mc:\\Users\\Utente\\Documents\\GitHub\\SE4GEO-Lab\\se4g_helper.py:581\u001b[0m, in \u001b[0;36mlogin_to_DB.<locals>.handle_login_button_click\u001b[1;34m(button)\u001b[0m\n\u001b[0;32m    576\u001b[0m \u001b[39m\u001b[39m\u001b[39m'''with open('code/'+file, 'r') as f:\u001b[39;00m\n\u001b[0;32m    577\u001b[0m \u001b[39m    engine = create_engine('postgresql://'+db_username+':'+f.read()+'@'+ip+':'+port+'/'+db) \u001b[39;00m\n\u001b[0;32m    578\u001b[0m \u001b[39mcon = engine.connect()'''\u001b[39;00m\n\u001b[0;32m    580\u001b[0m \u001b[39mwith\u001b[39;00m \u001b[39mopen\u001b[39m(\u001b[39m'\u001b[39m\u001b[39mcode/\u001b[39m\u001b[39m'\u001b[39m\u001b[39m+\u001b[39mfile, \u001b[39m'\u001b[39m\u001b[39mr\u001b[39m\u001b[39m'\u001b[39m) \u001b[39mas\u001b[39;00m f:\n\u001b[1;32m--> 581\u001b[0m     conn \u001b[39m=\u001b[39m psycopg2\u001b[39m.\u001b[39;49mconnect(\n\u001b[0;32m    582\u001b[0m         host \u001b[39m=\u001b[39;49m ip,\n\u001b[0;32m    583\u001b[0m         database \u001b[39m=\u001b[39;49m db,\n\u001b[0;32m    584\u001b[0m         user \u001b[39m=\u001b[39;49m db_username,\n\u001b[0;32m    585\u001b[0m         password \u001b[39m=\u001b[39;49m f\u001b[39m.\u001b[39;49mread()\n\u001b[0;32m    586\u001b[0m     )\n\u001b[0;32m    588\u001b[0m \u001b[39m# Perform any necessary database operations\u001b[39;00m\n\u001b[0;32m    589\u001b[0m \u001b[39m# ...\u001b[39;00m\n\u001b[0;32m    590\u001b[0m \u001b[39m# Return the database connection or perform any other actions\u001b[39;00m\n\u001b[0;32m    591\u001b[0m \u001b[39mprint\u001b[39m(\u001b[39m\"\u001b[39m\u001b[39mConnected with\u001b[39m\u001b[39m\"\u001b[39m,ip)\n",
      "File \u001b[1;32mc:\\Users\\Utente\\mambaforge\\envs\\se4g\\Lib\\site-packages\\psycopg2\\__init__.py:122\u001b[0m, in \u001b[0;36mconnect\u001b[1;34m(dsn, connection_factory, cursor_factory, **kwargs)\u001b[0m\n\u001b[0;32m    119\u001b[0m     kwasync[\u001b[39m'\u001b[39m\u001b[39masync_\u001b[39m\u001b[39m'\u001b[39m] \u001b[39m=\u001b[39m kwargs\u001b[39m.\u001b[39mpop(\u001b[39m'\u001b[39m\u001b[39masync_\u001b[39m\u001b[39m'\u001b[39m)\n\u001b[0;32m    121\u001b[0m dsn \u001b[39m=\u001b[39m _ext\u001b[39m.\u001b[39mmake_dsn(dsn, \u001b[39m*\u001b[39m\u001b[39m*\u001b[39mkwargs)\n\u001b[1;32m--> 122\u001b[0m conn \u001b[39m=\u001b[39m _connect(dsn, connection_factory\u001b[39m=\u001b[39;49mconnection_factory, \u001b[39m*\u001b[39;49m\u001b[39m*\u001b[39;49mkwasync)\n\u001b[0;32m    123\u001b[0m \u001b[39mif\u001b[39;00m cursor_factory \u001b[39mis\u001b[39;00m \u001b[39mnot\u001b[39;00m \u001b[39mNone\u001b[39;00m:\n\u001b[0;32m    124\u001b[0m     conn\u001b[39m.\u001b[39mcursor_factory \u001b[39m=\u001b[39m cursor_factory\n",
      "\u001b[1;31mOperationalError\u001b[0m: connection to server at \"192.168.30.19\", port 5432 failed: Connection timed out (0x0000274C/10060)\n\tIs the server running on that host and accepting TCP/IP connections?\n"
     ]
    }
   ],
   "source": [
    "login_to_DB()"
   ]
  },
  {
   "cell_type": "code",
   "execution_count": 3,
   "metadata": {},
   "outputs": [
    {
     "name": "stdout",
     "output_type": "stream",
     "text": [
      "Registrations saved to data\\registrations.csv successfully.\n",
      "Registrations saved to data\\registrations.csv successfully.\n"
     ]
    }
   ],
   "source": [
    "register = Register()\n",
    "register.add_registration('user4', 'password4')\n",
    "register.add_registration('user5', 'password5')"
   ]
  },
  {
   "cell_type": "code",
   "execution_count": 4,
   "metadata": {},
   "outputs": [
    {
     "data": {
      "application/vnd.jupyter.widget-view+json": {
       "model_id": "3a607300c5f840848f08f4cbe1a87e20",
       "version_major": 2,
       "version_minor": 0
      },
      "text/plain": [
       "HBox(children=(Label(value='user4'), Button(description='Admit', style=ButtonStyle()), Button(description='Rej…"
      ]
     },
     "metadata": {},
     "output_type": "display_data"
    },
    {
     "data": {
      "application/vnd.jupyter.widget-view+json": {
       "model_id": "557977d2633a4d7cb42193153a44d3a6",
       "version_major": 2,
       "version_minor": 0
      },
      "text/plain": [
       "HBox(children=(Label(value='user5'), Button(description='Admit', style=ButtonStyle()), Button(description='Rej…"
      ]
     },
     "metadata": {},
     "output_type": "display_data"
    },
    {
     "name": "stdout",
     "output_type": "stream",
     "text": [
      "Registrations saved to data\\registrations.csv successfully.\n",
      "user4 rejected!\n",
      "Registrations saved to data\\registrations.csv successfully.\n",
      "user5 rejected!\n"
     ]
    }
   ],
   "source": [
    "register.review_registrations()"
   ]
  },
  {
   "cell_type": "code",
   "execution_count": 5,
   "metadata": {},
   "outputs": [
    {
     "data": {
      "application/vnd.jupyter.widget-view+json": {
       "model_id": "6fa9a604e72a4e9a809d162303c689ab",
       "version_major": 2,
       "version_minor": 0
      },
      "text/plain": [
       "Text(value='', description='Username:', placeholder='Type postgres')"
      ]
     },
     "metadata": {},
     "output_type": "display_data"
    },
    {
     "data": {
      "application/vnd.jupyter.widget-view+json": {
       "model_id": "8a97ed002f2a44769305fa73d0d7b7a7",
       "version_major": 2,
       "version_minor": 0
      },
      "text/plain": [
       "Password(description='Password:', placeholder='Enter password')"
      ]
     },
     "metadata": {},
     "output_type": "display_data"
    },
    {
     "data": {
      "application/vnd.jupyter.widget-view+json": {
       "model_id": "2e7f1cef70404d57b966030903ce2b5a",
       "version_major": 2,
       "version_minor": 0
      },
      "text/plain": [
       "Button(description='Login', style=ButtonStyle())"
      ]
     },
     "metadata": {},
     "output_type": "display_data"
    },
    {
     "name": "stdout",
     "output_type": "stream",
     "text": [
      "Login successful!\n"
     ]
    }
   ],
   "source": [
    "login_required()"
   ]
  }
 ],
 "metadata": {
  "kernelspec": {
   "display_name": "se4g",
   "language": "python",
   "name": "python3"
  },
  "language_info": {
   "codemirror_mode": {
    "name": "ipython",
    "version": 3
   },
   "file_extension": ".py",
   "mimetype": "text/x-python",
   "name": "python",
   "nbconvert_exporter": "python",
   "pygments_lexer": "ipython3",
   "version": "3.11.0"
  },
  "orig_nbformat": 4
 },
 "nbformat": 4,
 "nbformat_minor": 2
}
