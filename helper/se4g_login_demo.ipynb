{
 "cells": [
  {
   "cell_type": "code",
   "execution_count": 1,
   "metadata": {},
   "outputs": [
    {
     "name": "stdout",
     "output_type": "stream",
     "text": [
      "Current working directory: c:\\Users\\Utente\\Documents\\GitHub\\SE4GEO-Lab\n"
     ]
    }
   ],
   "source": [
    "# import packages\n",
    "import os\n",
    "import requests\n",
    "import pandas as pd \n",
    "from datetime import datetime\n",
    "import ipywidgets as widgets\n",
    "from IPython.display import display\n",
    "from sqlalchemy import create_mock_engine\n",
    "from se4g_dir import set_the_working_directory\n",
    "set_the_working_directory()\n",
    "from se4g_helper import *\n"
   ]
  },
  {
   "cell_type": "code",
   "execution_count": 2,
   "metadata": {},
   "outputs": [
    {
     "name": "stdout",
     "output_type": "stream",
     "text": [
      "You are not logged in.\n"
     ]
    },
    {
     "data": {
      "application/vnd.jupyter.widget-view+json": {
       "model_id": "80ce1bf19b034f5f92da9ae257440012",
       "version_major": 2,
       "version_minor": 0
      },
      "text/plain": [
       "Text(value='', description='Username:', placeholder='Type postgres')"
      ]
     },
     "metadata": {},
     "output_type": "display_data"
    },
    {
     "data": {
      "application/vnd.jupyter.widget-view+json": {
       "model_id": "f70b145f5cf442f78398896e2f809557",
       "version_major": 2,
       "version_minor": 0
      },
      "text/plain": [
       "Password(description='Password:', placeholder='Enter password')"
      ]
     },
     "metadata": {},
     "output_type": "display_data"
    },
    {
     "data": {
      "application/vnd.jupyter.widget-view+json": {
       "model_id": "f919a56c18fc4476be68a08b6431c0d5",
       "version_major": 2,
       "version_minor": 0
      },
      "text/plain": [
       "Button(description='Login', style=ButtonStyle())"
      ]
     },
     "metadata": {},
     "output_type": "display_data"
    },
    {
     "name": "stdout",
     "output_type": "stream",
     "text": [
      "Login successful!\n"
     ]
    }
   ],
   "source": [
    "\n",
    "def login_register_section():\n",
    "    register = Register()\n",
    "    login = Login()\n",
    "    if login.logged_in:\n",
    "        print(\"You are logged in.\")\n",
    "        action = input(\"Choose an action (1 - Logout, 2 - Perform Authorized Action, 3 - Exit): \")\n",
    "\n",
    "        if action == \"1\":\n",
    "            login.logout()\n",
    "            print(\"Logged out successfully.\")\n",
    "        elif action == \"2\":\n",
    "            # Include code for authorized functions/cells\n",
    "            print(\"Performing authorized action...\")\n",
    "        elif action == \"3\":\n",
    "            print(\"Exiting...\")\n",
    "        else:\n",
    "            print(\"Invalid action.\")\n",
    "    else:\n",
    "        print(\"You are not logged in.\")\n",
    "        action = input(\"Choose an action (1 - Login, 2 - Register, 3 - Exit): \")\n",
    "\n",
    "        if action == \"1\":\n",
    "            login._required()\n",
    "        elif action == \"2\":\n",
    "            register._new_user()\n",
    "        elif action == \"3\":\n",
    "            print(\"Exiting...\")\n",
    "        else:\n",
    "            print(\"Invalid action.\")\n",
    "# Display the login/register section\n",
    "login_register_section()"
   ]
  },
  {
   "cell_type": "code",
   "execution_count": 4,
   "metadata": {},
   "outputs": [
    {
     "name": "stdout",
     "output_type": "stream",
     "text": [
      "You are not logged in.\n",
      "Registration request saved successfully.\n"
     ]
    }
   ],
   "source": [
    "login_register_section()"
   ]
  },
  {
   "cell_type": "code",
   "execution_count": 2,
   "metadata": {},
   "outputs": [
    {
     "data": {
      "application/vnd.jupyter.widget-view+json": {
       "model_id": "ac56d006afbe485e990700db19ae400c",
       "version_major": 2,
       "version_minor": 0
      },
      "text/plain": [
       "Text(value='', description='Username:', placeholder='Type postgres')"
      ]
     },
     "metadata": {},
     "output_type": "display_data"
    },
    {
     "data": {
      "application/vnd.jupyter.widget-view+json": {
       "model_id": "a6ec1568033c4a07af47517c0be00c9f",
       "version_major": 2,
       "version_minor": 0
      },
      "text/plain": [
       "Password(description='Password:', placeholder='Enter password')"
      ]
     },
     "metadata": {},
     "output_type": "display_data"
    },
    {
     "data": {
      "application/vnd.jupyter.widget-view+json": {
       "model_id": "da47cc94e6864f36bc205f43e80c87d7",
       "version_major": 2,
       "version_minor": 0
      },
      "text/plain": [
       "Button(description='Login', style=ButtonStyle())"
      ]
     },
     "metadata": {},
     "output_type": "display_data"
    }
   ],
   "source": [
    "login._to_DB()"
   ]
  },
  {
   "cell_type": "code",
   "execution_count": 3,
   "metadata": {},
   "outputs": [
    {
     "name": "stdout",
     "output_type": "stream",
     "text": [
      "Registration request saved successfully.\n"
     ]
    }
   ],
   "source": [
    "register._new_user()"
   ]
  },
  {
   "cell_type": "code",
   "execution_count": 5,
   "metadata": {},
   "outputs": [
    {
     "data": {
      "application/vnd.jupyter.widget-view+json": {
       "model_id": "918edeb4e72242c3aed06c63f8d58c0b",
       "version_major": 2,
       "version_minor": 0
      },
      "text/plain": [
       "HBox(children=(Label(value='prova'), Button(description='Admit', style=ButtonStyle()), Button(description='Rej…"
      ]
     },
     "metadata": {},
     "output_type": "display_data"
    },
    {
     "name": "stdout",
     "output_type": "stream",
     "text": [
      "Registration request saved successfully.\n",
      "prova rejected!\n"
     ]
    }
   ],
   "source": [
    "register._review_registrations()"
   ]
  },
  {
   "cell_type": "code",
   "execution_count": 6,
   "metadata": {},
   "outputs": [
    {
     "data": {
      "application/vnd.jupyter.widget-view+json": {
       "model_id": "ef95cd49325f44e98f8de14ffa402599",
       "version_major": 2,
       "version_minor": 0
      },
      "text/plain": [
       "Text(value='', description='Username:', placeholder='Type postgres')"
      ]
     },
     "metadata": {},
     "output_type": "display_data"
    },
    {
     "data": {
      "application/vnd.jupyter.widget-view+json": {
       "model_id": "0228ab924d47452c97925813179cc436",
       "version_major": 2,
       "version_minor": 0
      },
      "text/plain": [
       "Password(description='Password:', placeholder='Enter password')"
      ]
     },
     "metadata": {},
     "output_type": "display_data"
    },
    {
     "data": {
      "application/vnd.jupyter.widget-view+json": {
       "model_id": "6b6863c467644f619afc7eb402324a38",
       "version_major": 2,
       "version_minor": 0
      },
      "text/plain": [
       "Button(description='Login', style=ButtonStyle())"
      ]
     },
     "metadata": {},
     "output_type": "display_data"
    },
    {
     "name": "stdout",
     "output_type": "stream",
     "text": [
      "Login successful!\n",
      "Login successful!\n"
     ]
    }
   ],
   "source": [
    "login._required()"
   ]
  },
  {
   "cell_type": "code",
   "execution_count": null,
   "metadata": {},
   "outputs": [],
   "source": [
    "# Create 'admins' and 'administrators' csv\n",
    "admins = {'admin': 'admin', 'lorenzo': 'lore', 'angelica': 'ange', 'emma': 'em', 'virginia': 'virgi'}\n",
    "\n",
    "data = {'Username': list(admins.keys()), 'Password': list(admins.values())}\n",
    "df = pd.DataFrame(data)\n",
    "\n",
    "folder = 'data'\n",
    "filename = 'admins.csv'\n",
    "path_file = os.path.join(folder,filename)\n",
    "df.to_csv(path_file, index=False)\n",
    "\n",
    "print(f\"Data saved to {path_file} successfully.\")\n",
    "\n",
    "\n",
    "admnistrators = {'admin': 'admin', 'lorenzo': 'lore', 'angelica': 'ange', 'emma': 'em', 'virginia': 'virgi'}\n",
    "\n",
    "data = {'Username': list(admnistrators.keys()), 'Password': list(admnistrators.values())}\n",
    "df = pd.DataFrame(data)\n",
    "\n",
    "folder = 'data'\n",
    "filename = 'admnistrators.csv'\n",
    "path_file = os.path.join(folder,filename)\n",
    "df.to_csv(path_file, index=False)\n",
    "\n",
    "print(f\"Data saved to {path_file} successfully.\")"
   ]
  }
 ],
 "metadata": {
  "kernelspec": {
   "display_name": "se4g",
   "language": "python",
   "name": "python3"
  },
  "language_info": {
   "codemirror_mode": {
    "name": "ipython",
    "version": 3
   },
   "file_extension": ".py",
   "mimetype": "text/x-python",
   "name": "python",
   "nbconvert_exporter": "python",
   "pygments_lexer": "ipython3",
   "version": "3.11.0"
  },
  "orig_nbformat": 4
 },
 "nbformat": 4,
 "nbformat_minor": 2
}
