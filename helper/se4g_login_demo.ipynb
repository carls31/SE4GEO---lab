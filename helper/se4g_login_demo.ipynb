{
 "cells": [
  {
   "cell_type": "code",
   "execution_count": 1,
   "metadata": {},
   "outputs": [
    {
     "name": "stdout",
     "output_type": "stream",
     "text": [
      "Current working directory: c:\\Users\\Utente\\Documents\\GitHub\\SE4GEO-Lab\n"
     ]
    }
   ],
   "source": [
    "# import packages\n",
    "import os\n",
    "import requests\n",
    "import pandas as pd\n",
    "from datetime import datetime\n",
    "import ipywidgets as widgets\n",
    "from IPython.display import display\n",
    "from sqlalchemy import create_mock_engine\n",
    "from se4g_dir import set_the_working_directory\n",
    "set_the_working_directory()\n",
    "from se4g_helper import *\n",
    "register = Register()\n",
    "login = Login()"
   ]
  },
  {
   "cell_type": "code",
   "execution_count": 2,
   "metadata": {},
   "outputs": [
    {
     "data": {
      "application/vnd.jupyter.widget-view+json": {
       "model_id": "4eb87ac627a84d1497f211faadf7d110",
       "version_major": 2,
       "version_minor": 0
      },
      "text/plain": [
       "Text(value='', description='Username:', placeholder='Type postgres')"
      ]
     },
     "metadata": {},
     "output_type": "display_data"
    },
    {
     "data": {
      "application/vnd.jupyter.widget-view+json": {
       "model_id": "130efd887d114ffd964d07617d09389f",
       "version_major": 2,
       "version_minor": 0
      },
      "text/plain": [
       "Password(description='Password:', placeholder='Enter password')"
      ]
     },
     "metadata": {},
     "output_type": "display_data"
    },
    {
     "data": {
      "application/vnd.jupyter.widget-view+json": {
       "model_id": "e238762d0fa04b5aa232f898866d268e",
       "version_major": 2,
       "version_minor": 0
      },
      "text/plain": [
       "Button(description='Login', style=ButtonStyle())"
      ]
     },
     "metadata": {},
     "output_type": "display_data"
    },
    {
     "name": "stdout",
     "output_type": "stream",
     "text": [
      "connected with  localhost  through psycopg2\n",
      "connected with  localhost  through psycopg2\n",
      "connected with  localhost  through psycopg2\n",
      "connected with  localhost  through psycopg2\n",
      "connected with  localhost  through psycopg2\n",
      "Invalid username or password.\n"
     ]
    }
   ],
   "source": [
    "login_to_DB()"
   ]
  },
  {
   "cell_type": "code",
   "execution_count": null,
   "metadata": {},
   "outputs": [],
   "source": [
    "# List of functions in se4g_helper\n",
    "import se4g_helper\n",
    "\n",
    "function_list = dir(se4g_helper)\n",
    "function_list = [name for name in dir(se4g_helper) if callable(getattr(se4g_helper, name))]\n",
    "\n",
    "\n",
    "print(\"List of functions in se4g_helper module:\")\n",
    "for function_name in function_list:\n",
    "    print(function_name)"
   ]
  },
  {
   "cell_type": "code",
   "execution_count": null,
   "metadata": {},
   "outputs": [],
   "source": [
    "# Create admins csv\n",
    "admins = {'admin': 'admin', 'lorenzo': 'lore', 'angelica': 'ange', 'emma': 'em', 'virginia': 'virgi'}\n",
    "\n",
    "data = {'Username': list(admins.keys()), 'Password': list(admins.values())}\n",
    "df = pd.DataFrame(data)\n",
    "\n",
    "folder = 'data'\n",
    "filename = 'admins.csv'\n",
    "path_file = os.path.join(folder,filename)\n",
    "df.to_csv(path_file, index=False)\n",
    "\n",
    "print(f\"Data saved to {path_file} successfully.\")"
   ]
  },
  {
   "cell_type": "code",
   "execution_count": 3,
   "metadata": {},
   "outputs": [
    {
     "name": "stdout",
     "output_type": "stream",
     "text": [
      "Data saved to data\\admnistrators.csv successfully.\n"
     ]
    }
   ],
   "source": [
    "# Create admins csv\n",
    "admnistrators = {'admin': 'admin', 'lorenzo': 'lore', 'angelica': 'ange', 'emma': 'em', 'virginia': 'virgi'}\n",
    "\n",
    "data = {'Username': list(admnistrators.keys()), 'Password': list(admnistrators.values())}\n",
    "df = pd.DataFrame(data)\n",
    "\n",
    "folder = 'data'\n",
    "filename = 'admnistrators.csv'\n",
    "path_file = os.path.join(folder,filename)\n",
    "df.to_csv(path_file, index=False)\n",
    "\n",
    "print(f\"Data saved to {path_file} successfully.\")"
   ]
  },
  {
   "cell_type": "code",
   "execution_count": null,
   "metadata": {},
   "outputs": [],
   "source": [
    "register.add_registration()"
   ]
  },
  {
   "cell_type": "code",
   "execution_count": null,
   "metadata": {},
   "outputs": [],
   "source": [
    "register.review_registrations()"
   ]
  },
  {
   "cell_type": "code",
   "execution_count": 2,
   "metadata": {},
   "outputs": [
    {
     "data": {
      "application/vnd.jupyter.widget-view+json": {
       "model_id": "25e48e642ca7435c9fdd5030a698ea05",
       "version_major": 2,
       "version_minor": 0
      },
      "text/plain": [
       "Text(value='', description='Username:', placeholder='Type postgres')"
      ]
     },
     "metadata": {},
     "output_type": "display_data"
    },
    {
     "data": {
      "application/vnd.jupyter.widget-view+json": {
       "model_id": "ee16cb7c156547178c693e054f642d51",
       "version_major": 2,
       "version_minor": 0
      },
      "text/plain": [
       "Password(description='Password:', placeholder='Enter password')"
      ]
     },
     "metadata": {},
     "output_type": "display_data"
    },
    {
     "data": {
      "application/vnd.jupyter.widget-view+json": {
       "model_id": "2b7a53b0cdbb4bba8823ffb0b2c7d481",
       "version_major": 2,
       "version_minor": 0
      },
      "text/plain": [
       "Button(description='Login', style=ButtonStyle())"
      ]
     },
     "metadata": {},
     "output_type": "display_data"
    },
    {
     "name": "stdout",
     "output_type": "stream",
     "text": [
      "Login successful!\n"
     ]
    }
   ],
   "source": [
    "login_required()"
   ]
  }
 ],
 "metadata": {
  "kernelspec": {
   "display_name": "se4g",
   "language": "python",
   "name": "python3"
  },
  "language_info": {
   "codemirror_mode": {
    "name": "ipython",
    "version": 3
   },
   "file_extension": ".py",
   "mimetype": "text/x-python",
   "name": "python",
   "nbconvert_exporter": "python",
   "pygments_lexer": "ipython3",
   "version": "3.11.0"
  },
  "orig_nbformat": 4
 },
 "nbformat": 4,
 "nbformat_minor": 2
}
