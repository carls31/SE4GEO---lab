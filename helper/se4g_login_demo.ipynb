{
 "cells": [
  {
   "cell_type": "code",
   "execution_count": 1,
   "metadata": {},
   "outputs": [
    {
     "name": "stdout",
     "output_type": "stream",
     "text": [
      "Current working directory: c:\\Users\\Utente\\Documents\\GitHub\\SE4GEO-Lab\n"
     ]
    }
   ],
   "source": [
    "# import packages\n",
    "import os\n",
    "import requests\n",
    "import pandas as pd\n",
    "from datetime import datetime\n",
    "import ipywidgets as widgets\n",
    "from IPython.display import display\n",
    "from sqlalchemy import create_mock_engine\n",
    "from se4g_dir import set_the_working_directory\n",
    "set_the_working_directory()\n",
    "from se4g_helper import *"
   ]
  },
  {
   "cell_type": "code",
   "execution_count": 2,
   "metadata": {},
   "outputs": [
    {
     "data": {
      "application/vnd.jupyter.widget-view+json": {
       "model_id": "622be3159f49400fa1a5a96f68dc69ed",
       "version_major": 2,
       "version_minor": 0
      },
      "text/plain": [
       "Text(value='', description='Username:', placeholder='Type postgres')"
      ]
     },
     "metadata": {},
     "output_type": "display_data"
    },
    {
     "data": {
      "application/vnd.jupyter.widget-view+json": {
       "model_id": "c8e33d78ee20410289949aecead803e1",
       "version_major": 2,
       "version_minor": 0
      },
      "text/plain": [
       "Password(description='Password:', placeholder='Enter password')"
      ]
     },
     "metadata": {},
     "output_type": "display_data"
    },
    {
     "data": {
      "application/vnd.jupyter.widget-view+json": {
       "model_id": "b6c94c38a32640ae80b232b48625dcae",
       "version_major": 2,
       "version_minor": 0
      },
      "text/plain": [
       "Button(description='Login', style=ButtonStyle())"
      ]
     },
     "metadata": {},
     "output_type": "display_data"
    },
    {
     "name": "stdout",
     "output_type": "stream",
     "text": [
      "user.value lorenzo inside handle_login_button_click\n",
      "psw.value lore inside handle_login_button_click\n",
      "insersted username lorenzo\n",
      "insersted password lore\n",
      "lore is inside the user list\n",
      "the correct password of the user is lore\n",
      "connected with  localhost  through psycopg2\n"
     ]
    }
   ],
   "source": [
    "login_to_DB()"
   ]
  },
  {
   "cell_type": "code",
   "execution_count": null,
   "metadata": {},
   "outputs": [],
   "source": [
    "# List of functions in se4g_helper\n",
    "import se4g_helper\n",
    "\n",
    "function_list = dir(se4g_helper)\n",
    "function_list = [name for name in dir(se4g_helper) if callable(getattr(se4g_helper, name))]\n",
    "\n",
    "\n",
    "print(\"List of functions in se4g_helper module:\")\n",
    "for function_name in function_list:\n",
    "    print(function_name)"
   ]
  },
  {
   "cell_type": "code",
   "execution_count": null,
   "metadata": {},
   "outputs": [],
   "source": [
    "# Create admins csv\n",
    "admins = {'admin': 'admin', 'lorenzo': 'lore', 'angelica': 'ange', 'emma': 'em', 'virginia': 'virgi'}\n",
    "\n",
    "data = {'Username': list(admins.keys()), 'Password': list(admins.values())}\n",
    "df = pd.DataFrame(data)\n",
    "\n",
    "folder = 'data'\n",
    "filename = 'admins.csv'\n",
    "path_file = os.path.join(folder,filename)\n",
    "df.to_csv(path_file, index=False)\n",
    "\n",
    "print(f\"Data saved to {path_file} successfully.\")"
   ]
  },
  {
   "cell_type": "code",
   "execution_count": 3,
   "metadata": {},
   "outputs": [
    {
     "name": "stdout",
     "output_type": "stream",
     "text": [
      "Data saved to data\\admnistrators.csv successfully.\n"
     ]
    }
   ],
   "source": [
    "# Create admins csv\n",
    "admnistrators = {'admin': 'admin', 'lorenzo': 'lore', 'angelica': 'ange', 'emma': 'em', 'virginia': 'virgi'}\n",
    "\n",
    "data = {'Username': list(admnistrators.keys()), 'Password': list(admnistrators.values())}\n",
    "df = pd.DataFrame(data)\n",
    "\n",
    "folder = 'data'\n",
    "filename = 'admnistrators.csv'\n",
    "path_file = os.path.join(folder,filename)\n",
    "df.to_csv(path_file, index=False)\n",
    "\n",
    "print(f\"Data saved to {path_file} successfully.\")"
   ]
  },
  {
   "cell_type": "code",
   "execution_count": 3,
   "metadata": {},
   "outputs": [
    {
     "name": "stdout",
     "output_type": "stream",
     "text": [
      "Registrations saved to data\\registrations.csv successfully.\n",
      "Registrations saved to data\\registrations.csv successfully.\n"
     ]
    }
   ],
   "source": [
    "register = Register()\n",
    "register.add_registration('user4', 'password4')\n",
    "register.add_registration('user5', 'password5')"
   ]
  },
  {
   "cell_type": "code",
   "execution_count": 4,
   "metadata": {},
   "outputs": [
    {
     "data": {
      "application/vnd.jupyter.widget-view+json": {
       "model_id": "3a607300c5f840848f08f4cbe1a87e20",
       "version_major": 2,
       "version_minor": 0
      },
      "text/plain": [
       "HBox(children=(Label(value='user4'), Button(description='Admit', style=ButtonStyle()), Button(description='Rej…"
      ]
     },
     "metadata": {},
     "output_type": "display_data"
    },
    {
     "data": {
      "application/vnd.jupyter.widget-view+json": {
       "model_id": "557977d2633a4d7cb42193153a44d3a6",
       "version_major": 2,
       "version_minor": 0
      },
      "text/plain": [
       "HBox(children=(Label(value='user5'), Button(description='Admit', style=ButtonStyle()), Button(description='Rej…"
      ]
     },
     "metadata": {},
     "output_type": "display_data"
    },
    {
     "name": "stdout",
     "output_type": "stream",
     "text": [
      "Registrations saved to data\\registrations.csv successfully.\n",
      "user4 rejected!\n",
      "Registrations saved to data\\registrations.csv successfully.\n",
      "user5 rejected!\n"
     ]
    }
   ],
   "source": [
    "register.review_registrations()"
   ]
  },
  {
   "cell_type": "code",
   "execution_count": 5,
   "metadata": {},
   "outputs": [
    {
     "data": {
      "application/vnd.jupyter.widget-view+json": {
       "model_id": "6fa9a604e72a4e9a809d162303c689ab",
       "version_major": 2,
       "version_minor": 0
      },
      "text/plain": [
       "Text(value='', description='Username:', placeholder='Type postgres')"
      ]
     },
     "metadata": {},
     "output_type": "display_data"
    },
    {
     "data": {
      "application/vnd.jupyter.widget-view+json": {
       "model_id": "8a97ed002f2a44769305fa73d0d7b7a7",
       "version_major": 2,
       "version_minor": 0
      },
      "text/plain": [
       "Password(description='Password:', placeholder='Enter password')"
      ]
     },
     "metadata": {},
     "output_type": "display_data"
    },
    {
     "data": {
      "application/vnd.jupyter.widget-view+json": {
       "model_id": "2e7f1cef70404d57b966030903ce2b5a",
       "version_major": 2,
       "version_minor": 0
      },
      "text/plain": [
       "Button(description='Login', style=ButtonStyle())"
      ]
     },
     "metadata": {},
     "output_type": "display_data"
    },
    {
     "name": "stdout",
     "output_type": "stream",
     "text": [
      "Login successful!\n"
     ]
    }
   ],
   "source": [
    "login_required()"
   ]
  }
 ],
 "metadata": {
  "kernelspec": {
   "display_name": "se4g",
   "language": "python",
   "name": "python3"
  },
  "language_info": {
   "codemirror_mode": {
    "name": "ipython",
    "version": 3
   },
   "file_extension": ".py",
   "mimetype": "text/x-python",
   "name": "python",
   "nbconvert_exporter": "python",
   "pygments_lexer": "ipython3",
   "version": "3.11.0"
  },
  "orig_nbformat": 4
 },
 "nbformat": 4,
 "nbformat_minor": 2
}
