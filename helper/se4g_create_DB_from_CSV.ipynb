{
 "cells": [
  {
   "cell_type": "code",
   "execution_count": 1,
   "metadata": {},
   "outputs": [
    {
     "name": "stdout",
     "output_type": "stream",
     "text": [
      "Current directory:  c:\\Users\\Utente\\Documents\\GitHub\\SE4GEO-Lab\\db_helper\n",
      "Current working directory: c:\\Users\\Utente\\Documents\\GitHub\\SE4GEO-Lab\n"
     ]
    }
   ],
   "source": [
    "# import packages\n",
    "from sqlalchemy import create_engine, text, MetaData\n",
    "import pandas as pd\n",
    "import geopandas as gpd\n",
    "import socket\n",
    "import ipywidgets as widgets\n",
    "from IPython.display import display\n",
    "import os\n",
    "import requests\n",
    "from se4g_dir import set_the_working_directory\n",
    "# Set the working directory\n",
    "set_the_working_directory()\n",
    "from se4g_helper import connect_with_sqlalchemy, connect_right_now"
   ]
  },
  {
   "cell_type": "code",
   "execution_count": 2,
   "metadata": {},
   "outputs": [
    {
     "name": "stdout",
     "output_type": "stream",
     "text": [
      "connected with  localhost  through sqlalchemy\n",
      "connected with  localhost  through psycopg2\n"
     ]
    }
   ],
   "source": [
    "engine = connect_with_sqlalchemy()\n",
    "conn = connect_right_now()"
   ]
  },
  {
   "attachments": {},
   "cell_type": "markdown",
   "metadata": {},
   "source": [
    "Create 'se4g_pollution_main' table from 'se4g_pollution_main.csv' dataset"
   ]
  },
  {
   "cell_type": "code",
   "execution_count": 5,
   "metadata": {},
   "outputs": [
    {
     "data": {
      "text/plain": [
       "924"
      ]
     },
     "execution_count": 5,
     "metadata": {},
     "output_type": "execute_result"
    }
   ],
   "source": [
    "# Input CSV data \n",
    "dataset = 'se4g_pollution_main.csv'\n",
    "folder = 'data_prova'\n",
    "full_path = os.path.join(os.getcwd(),folder,dataset)\n",
    "\n",
    "df = pd.read_csv(full_path)\n",
    "\n",
    "# Write the Database dataframe into postgreSQL - 39m33s ( localhost 1m.37s)\n",
    "df.to_sql('se4g_pollution_main', engine, if_exists = 'replace', index=False)"
   ]
  },
  {
   "attachments": {},
   "cell_type": "markdown",
   "metadata": {},
   "source": [
    "Create 'se4g_dashboard' table from 'se4g_dashboard_dataset.csv' dataset"
   ]
  },
  {
   "cell_type": "code",
   "execution_count": 3,
   "metadata": {},
   "outputs": [],
   "source": [
    "dataset = 'se4g_dashboard_dataset.csv' # - 1.2s\n",
    "folder = 'data_prova'\n",
    "\n",
    "# Create a cursor\n",
    "cur = conn.cursor()\n",
    "\n",
    "# Define the table name to drop\n",
    "table_name = \"se4g_dashboard\"\n",
    "\n",
    "# Execute the SQL statement to drop the table\n",
    "cur.execute(f\"DROP TABLE IF EXISTS {table_name}\")\n",
    "\n",
    "# Commit the changes\n",
    "conn.commit()\n",
    "\n",
    "# Close the cursor and the connection\n",
    "cur.close()\n",
    "conn.close()\n",
    "\n",
    "full_path = os.path.join(os.getcwd(),folder,dataset)\n",
    "# Import the dataframe from the CSV full path\n",
    "df = pd.read_csv(full_path)\n",
    "\n",
    "# Write the Database dataframe into postgreSQL\n",
    "df.to_sql(table_name, engine, if_exists = 'append', index=False)\n",
    "\n",
    "# Close the connection\n",
    "engine.dispose()\n",
    "\n",
    "\n",
    "#df = df[df['pollutant'] != 'O3']\n",
    "#df.to_csv(full_path, index=False)"
   ]
  },
  {
   "attachments": {},
   "cell_type": "markdown",
   "metadata": {},
   "source": [
    "Test DB Remote Connection  (Prof. Quattrocchi) - DEIB IP"
   ]
  },
  {
   "cell_type": "code",
   "execution_count": null,
   "metadata": {},
   "outputs": [],
   "source": [
    "IP_host = '172.16.42.8'\n",
    "engine = create_engine('postgresql://gioenn:test@'+IP_host+':5432/mydb') \n",
    "con = engine.connect()\n",
    "print('connected with', IP_host)\n",
    "\n",
    "IP = socket.gethostbyname(socket.gethostname())\n",
    "IP_host = '172.16.42.8'\n",
    "file = 'bin.txt'\n",
    "with open('code/'+file, 'r') as f:\n",
    "    engine = create_engine('postgresql://postgres:'+f.read()+'@'+IP+':5432/se4g') \n",
    "con = engine.connect()\n",
    "print('connected with', IP)"
   ]
  }
 ],
 "metadata": {
  "kernelspec": {
   "display_name": "se4g",
   "language": "python",
   "name": "python3"
  },
  "language_info": {
   "codemirror_mode": {
    "name": "ipython",
    "version": 3
   },
   "file_extension": ".py",
   "mimetype": "text/x-python",
   "name": "python",
   "nbconvert_exporter": "python",
   "pygments_lexer": "ipython3",
   "version": "3.11.0"
  },
  "orig_nbformat": 4
 },
 "nbformat": 4,
 "nbformat_minor": 2
}
