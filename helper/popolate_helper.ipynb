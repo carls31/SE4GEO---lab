{
 "cells": [
  {
   "cell_type": "code",
   "execution_count": null,
   "metadata": {},
   "outputs": [],
   "source": [
    "from se4g_helper import update_data\n",
    "\n",
    "update_data()"
   ]
  },
  {
   "cell_type": "code",
   "execution_count": null,
   "metadata": {},
   "outputs": [],
   "source": [
    "\n",
    "'''from se4g_helper import (download_request, build_dataframe, update_dataset, update_dashboard_dataset,\n",
    "                         download_DB, update_dashboard_table, connect_right_now, connect_with_sqlalchemy)\n",
    "def update_data():\n",
    "    # Download and get the dataframe file name\n",
    "    dir = download_request(folder_out = 'data_prova')\n",
    "    #dir = '2023-06-09_14_50_48'\n",
    "\n",
    "    # Build the dataframe with the required structure\n",
    "    df = build_dataframe(dir, folder_out = 'data_prova')\n",
    "\n",
    "    # Update the main dataset & the dashboard dataset \n",
    "    new_df = update_dataset(df, folder_out = 'data_prova')\n",
    "    update_dashboard_dataset(df, folder_out = 'data_prova')\n",
    "\n",
    "    # Update DB\n",
    "\n",
    "    download_DB( conn=connect_right_now() )\n",
    "    \n",
    "    # Update dashboard table\n",
    "    update_dashboard_table( conn=connect_right_now(), \n",
    "                            engine=connect_with_sqlalchemy()\n",
    "                            )'''\n"
   ]
  }
 ],
 "metadata": {
  "language_info": {
   "name": "python"
  },
  "orig_nbformat": 4
 },
 "nbformat": 4,
 "nbformat_minor": 2
}
